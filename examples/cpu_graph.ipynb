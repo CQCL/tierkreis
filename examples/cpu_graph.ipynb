{
 "cells": [
  {
   "cell_type": "markdown",
   "id": "18d4db94",
   "metadata": {},
   "source": [
    "# CPU graph\n",
    "\n",
    "A simple example of running several CPU intensive nodes in parallel and aggregating the results.\n",
    "\n",
    "## Example worker\n",
    "\n",
    "The example worker code is [here](./example_workers/cpu_worker/main.py).\n",
    "It uses an encryption function to simulate a CPU intensive activity.\n",
    "\n",
    "Since this worker uses the Tierkreis Python library,\n",
    "we can automatically generate stub files using the following command.\n",
    "The stub files will provide us with type hints "
   ]
  },
  {
   "cell_type": "code",
   "execution_count": 10,
   "id": "4d6e1e1a",
   "metadata": {},
   "outputs": [
    {
     "name": "stdout",
     "output_type": "stream",
     "text": [
      "\u001b[1m\u001b[33mwarning\u001b[39m\u001b[0m\u001b[1m:\u001b[0m \u001b[1m`VIRTUAL_ENV=/Users/matthew.burke/Documents/GitHub/tierkreis/.venv` does not match the project environment path `.venv` and will be ignored; use `--active` to target the active environment instead\u001b[0m\n",
      "1 file reformatted\n",
      "Found 1 error (1 fixed, 0 remaining).\n"
     ]
    }
   ],
   "source": [
    "# Generate stubs file.\n",
    "!cd ./example_workers/cpu_worker && uv run main.py --stubs-path ../../cpu_worker_stubs.py\n",
    "# Format and lint generated file.\n",
    "!uv run ruff format cpu_worker_stubs.py\n",
    "!uv run ruff check --fix cpu_worker_stubs.py"
   ]
  },
  {
   "cell_type": "markdown",
   "id": "684117fc",
   "metadata": {},
   "source": [
    "## Example graph\n",
    "\n",
    "We can import this stub file to help create our graph."
   ]
  },
  {
   "cell_type": "code",
   "execution_count": 18,
   "id": "8ccc790b",
   "metadata": {},
   "outputs": [
    {
     "ename": "ImportError",
     "evalue": "cannot import name 'mean' from 'tests.tkr_builtins' (/Users/matthew.burke/Documents/GitHub/tierkreis/tierkreis/tests/tkr_builtins.py)",
     "output_type": "error",
     "traceback": [
      "\u001b[31m---------------------------------------------------------------------------\u001b[39m",
      "\u001b[31mImportError\u001b[39m                               Traceback (most recent call last)",
      "\u001b[36mCell\u001b[39m\u001b[36m \u001b[39m\u001b[32mIn[18]\u001b[39m\u001b[32m, line 5\u001b[39m\n\u001b[32m      3\u001b[39m \u001b[38;5;28;01mfrom\u001b[39;00m\u001b[38;5;250m \u001b[39m\u001b[34;01mtierkreis\u001b[39;00m\u001b[34;01m.\u001b[39;00m\u001b[34;01mcontroller\u001b[39;00m\u001b[34;01m.\u001b[39;00m\u001b[34;01mdata\u001b[39;00m\u001b[34;01m.\u001b[39;00m\u001b[34;01mgraph\u001b[39;00m\u001b[38;5;250m \u001b[39m\u001b[38;5;28;01mimport\u001b[39;00m GraphBuilder\n\u001b[32m      4\u001b[39m \u001b[38;5;28;01mfrom\u001b[39;00m\u001b[38;5;250m \u001b[39m\u001b[34;01mcpu_worker_stubs\u001b[39;00m\u001b[38;5;250m \u001b[39m\u001b[38;5;28;01mimport\u001b[39;00m encrypt, encryptOutput\n\u001b[32m----> \u001b[39m\u001b[32m5\u001b[39m \u001b[38;5;28;01mfrom\u001b[39;00m\u001b[38;5;250m \u001b[39m\u001b[34;01mtests\u001b[39;00m\u001b[34;01m.\u001b[39;00m\u001b[34;01mtkr_builtins\u001b[39;00m\u001b[38;5;250m \u001b[39m\u001b[38;5;28;01mimport\u001b[39;00m mean\n\u001b[32m      7\u001b[39m \u001b[38;5;28;01mdef\u001b[39;00m\u001b[38;5;250m \u001b[39m\u001b[34mmap_body\u001b[39m() -> GraphBuilder[TKRRef[\u001b[38;5;28mstr\u001b[39m], encryptOutput]:\n\u001b[32m      8\u001b[39m     g = GraphBuilder(TKRRef[\u001b[38;5;28mstr\u001b[39m])\n",
      "\u001b[31mImportError\u001b[39m: cannot import name 'mean' from 'tests.tkr_builtins' (/Users/matthew.burke/Documents/GitHub/tierkreis/tierkreis/tests/tkr_builtins.py)"
     ]
    }
   ],
   "source": [
    "from typing import NamedTuple\n",
    "from tierkreis.controller.data.core import EmptyModel, TKRRef\n",
    "from tierkreis.controller.data.graph import GraphBuilder\n",
    "from cpu_worker_stubs import encrypt, encryptOutput\n",
    "from tests.tkr_builtins import mean\n",
    "\n",
    "def map_body() -> GraphBuilder[TKRRef[str], encryptOutput]:\n",
    "    g = GraphBuilder(TKRRef[str])\n",
    "    result = g.fn(encrypt(plaintext=g.inputs, work_factor=g.const(2048)))\n",
    "    return g.outputs(result)\n",
    "\n",
    "class GraphOutputs(NamedTuple):\n",
    "    average_time_taken: TKRRef[float]\n",
    "    ciphertexts: TKRRef[list[bytes]]\n",
    "\n",
    "def graph() -> GraphBuilder[EmptyModel, GraphOutputs]:\n",
    "    g = GraphBuilder()\n",
    "    body = g.graph_const(map_body())\n",
    "    plaintexts_list = g.const([f\"plaintext+{n}\" for n in range(20)])\n",
    "    plaintexts = g.unfold_list(plaintexts_list)\n",
    "    results = g.map(body, plaintexts)\n",
    "\n",
    "    ciphertexts = results.map(lambda x: x.ciphertext)\n",
    "    ciphertexts_list = g.fold_list(ciphertexts)\n",
    "\n",
    "    times = results.map(lambda x: x.time_taken)\n",
    "    times_list = g.fold_list(times)\n",
    "\n",
    "    av = g.fn(mean(values=times_list))\n",
    "    out = GraphOutputs(ciphertexts=ciphertexts_list, average_time_taken=av)\n",
    "\n",
    "    return g.outputs(out)\n"
   ]
  },
  {
   "cell_type": "code",
   "execution_count": 11,
   "id": "103a3de9",
   "metadata": {},
   "outputs": [
    {
     "ename": "NameError",
     "evalue": "name 'graph' is not defined",
     "output_type": "error",
     "traceback": [
      "\u001b[31m---------------------------------------------------------------------------\u001b[39m",
      "\u001b[31mNameError\u001b[39m                                 Traceback (most recent call last)",
      "\u001b[36mCell\u001b[39m\u001b[36m \u001b[39m\u001b[32mIn[11]\u001b[39m\u001b[32m, line 9\u001b[39m\n\u001b[32m      7\u001b[39m storage = ControllerFileStorage(UUID(\u001b[38;5;28mint\u001b[39m=\u001b[32m2048\u001b[39m), \u001b[33m\"\u001b[39m\u001b[33mcpu_graph\u001b[39m\u001b[33m\"\u001b[39m, do_cleanup=\u001b[38;5;28;01mTrue\u001b[39;00m)\n\u001b[32m      8\u001b[39m executor = UvExecutor(registry_path=Path(\u001b[33m\"\u001b[39m\u001b[33m./example_workers\u001b[39m\u001b[33m\"\u001b[39m),logs_path=storage.logs_path)\n\u001b[32m----> \u001b[39m\u001b[32m9\u001b[39m run_graph(storage, executor, \u001b[43mgraph\u001b[49m().data, {})\n",
      "\u001b[31mNameError\u001b[39m: name 'graph' is not defined"
     ]
    }
   ],
   "source": [
    "from pathlib import Path\n",
    "from uuid import UUID\n",
    "from tierkreis.controller import run_graph\n",
    "from tierkreis.controller.executor.uv_executor import UvExecutor\n",
    "from tierkreis.controller.storage.filestorage import ControllerFileStorage\n",
    "\n",
    "storage = ControllerFileStorage(UUID(int=2048), \"cpu_graph\", do_cleanup=True)\n",
    "executor = UvExecutor(registry_path=Path(\"./example_workers\"),logs_path=storage.logs_path)\n",
    "run_graph(storage, executor, graph().data, {})"
   ]
  },
  {
   "cell_type": "code",
   "execution_count": null,
   "id": "75db505d",
   "metadata": {},
   "outputs": [],
   "source": []
  }
 ],
 "metadata": {
  "kernelspec": {
   "display_name": ".venv",
   "language": "python",
   "name": "python3"
  },
  "language_info": {
   "codemirror_mode": {
    "name": "ipython",
    "version": 3
   },
   "file_extension": ".py",
   "mimetype": "text/x-python",
   "name": "python",
   "nbconvert_exporter": "python",
   "pygments_lexer": "ipython3",
   "version": "3.12.9"
  }
 },
 "nbformat": 4,
 "nbformat_minor": 5
}
