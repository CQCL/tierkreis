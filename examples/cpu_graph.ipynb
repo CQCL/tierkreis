{
 "cells": [
  {
   "cell_type": "markdown",
   "id": "18d4db94",
   "metadata": {},
   "source": [
    "# CPU graph\n",
    "\n",
    "An example of how to run several CPU intensive nodes in parallel and aggregate the results.\n",
    "\n",
    "## Example worker\n",
    "\n",
    "The example worker code is [here](./example_workers/cpu_worker/main.py).\n",
    "It uses an encryption function as a CPU intensive worker function.\n",
    "\n",
    "## Generating stubs\n",
    "\n",
    "Since this worker uses the Tierkreis Python library, we can automatically generate stub files using the following command.\n",
    "The stub files will provide us with type hints in the graph building process later on."
   ]
  },
  {
   "cell_type": "code",
   "execution_count": null,
   "id": "4d6e1e1a",
   "metadata": {},
   "outputs": [],
   "source": [
    "# Generate stubs file.\n",
    "!cd ./example_workers/cpu_worker && uv run main.py --stubs-path ../../cpu_worker_stubs.py\n",
    "# Format and lint generated file.\n",
    "!uv run ruff format cpu_worker_stubs.py\n",
    "!uv run ruff check --fix cpu_worker_stubs.py"
   ]
  },
  {
   "cell_type": "markdown",
   "id": "54ca59fa",
   "metadata": {},
   "source": [
    "We also place stub files for the Tierkreis builtins worker in this directory also."
   ]
  },
  {
   "cell_type": "code",
   "execution_count": null,
   "id": "257ca396",
   "metadata": {},
   "outputs": [],
   "source": [
    "# Generate stubs file.\n",
    "!cd ../tierkreis/tierkreis/controller/builtins/ && uv run main.py --stubs-path ../../../../examples/tkr_builtins.py\n",
    "# Format and lint generated file.\n",
    "!uv run ruff format tkr_builtins.py\n",
    "!uv run ruff check --fix tkr_builtins.py"
   ]
  },
  {
   "cell_type": "markdown",
   "id": "684117fc",
   "metadata": {},
   "source": [
    "## Writing a graph\n",
    "\n",
    "We can import this stub file to help create our graph."
   ]
  },
  {
   "cell_type": "code",
   "execution_count": null,
   "id": "8ccc790b",
   "metadata": {},
   "outputs": [],
   "source": [
    "from typing import NamedTuple\n",
    "from tierkreis.controller.data.core import EmptyModel, TKRRef\n",
    "from tierkreis.controller.data.graph import GraphBuilder\n",
    "from cpu_worker_stubs import encrypt, encryptOutput\n",
    "from tkr_builtins import mean\n",
    "\n",
    "\n",
    "def map_body() -> GraphBuilder[TKRRef[str], encryptOutput]:\n",
    "    g = GraphBuilder(TKRRef[str])\n",
    "    result = g.fn(encrypt(plaintext=g.inputs, work_factor=g.const(2**14)))\n",
    "    return g.outputs(result)\n",
    "\n",
    "\n",
    "class GraphOutputs(NamedTuple):\n",
    "    average_time_taken: TKRRef[float]\n",
    "    ciphertexts: TKRRef[list[str]]\n",
    "\n",
    "\n",
    "def graph() -> GraphBuilder[EmptyModel, GraphOutputs]:\n",
    "    g = GraphBuilder()\n",
    "    plaintexts_list = g.const([f\"plaintext+{n}\" for n in range(20)])\n",
    "    plaintexts = g.unfold_list(plaintexts_list)\n",
    "    results = g.map(g.graph_const(map_body()), plaintexts)\n",
    "\n",
    "    ciphertexts = results.map(lambda x: x.ciphertext)\n",
    "    ciphertexts_list = g.fold_list(ciphertexts)\n",
    "\n",
    "    times = results.map(lambda x: x.time_taken)\n",
    "    times_list = g.fold_list(times)\n",
    "\n",
    "    av = g.fn(mean(values=times_list))\n",
    "    out = GraphOutputs(ciphertexts=ciphertexts_list, average_time_taken=av)\n",
    "\n",
    "    return g.outputs(out)"
   ]
  },
  {
   "cell_type": "markdown",
   "id": "91cbf572",
   "metadata": {},
   "source": [
    "## Running the graph\n",
    "\n",
    "In order to run a graph we need to choose a storage backend and executor.\n",
    "In this example we choose a simple filestorage backend and the UV executor.\n",
    "For the UV executor the registry path should be a folder continaing all the  workers we use.\n",
    "\n",
    "Then we pass the storage, executor, graph into the `run_graph` function.\n",
    "At this point we have the option to pass additional graph inputs."
   ]
  },
  {
   "cell_type": "code",
   "execution_count": null,
   "id": "103a3de9",
   "metadata": {},
   "outputs": [],
   "source": [
    "import json\n",
    "from pathlib import Path\n",
    "import time\n",
    "from uuid import UUID\n",
    "from tierkreis.controller import run_graph\n",
    "from tierkreis.controller.data.location import Loc\n",
    "from tierkreis.controller.executor.uv_executor import UvExecutor\n",
    "from tierkreis.controller.storage.filestorage import ControllerFileStorage\n",
    "\n",
    "storage = ControllerFileStorage(UUID(int=2048), \"cpu_graph\", do_cleanup=True)\n",
    "executor = UvExecutor(\n",
    "    registry_path=Path(\"./example_workers\"), logs_path=storage.logs_path\n",
    ")\n",
    "start = time.time()\n",
    "run_graph(storage, executor, graph().data, {})\n",
    "total_time = time.time() - start\n",
    "\n",
    "av = json.loads(storage.read_output(Loc(), \"average_time_taken\"))\n",
    "ciphertexts = json.loads(storage.read_output(Loc(), \"ciphertexts\"))\n",
    "print(f\"Encrypted 20 plaintexts in {total_time:1g}s with mean encryption time {av:1g}\")"
   ]
  },
  {
   "cell_type": "markdown",
   "id": "a617edf9",
   "metadata": {},
   "source": [
    "We should see that the total time to encrypt the 20 plaintexts is quite close to the time taken for the whole workflow, which indicates that the encryptions were run in parallel."
   ]
  }
 ],
 "metadata": {
  "kernelspec": {
   "display_name": ".venv",
   "language": "python",
   "name": "python3"
  },
  "language_info": {
   "codemirror_mode": {
    "name": "ipython",
    "version": 3
   },
   "file_extension": ".py",
   "mimetype": "text/x-python",
   "name": "python",
   "nbconvert_exporter": "python",
   "pygments_lexer": "ipython3",
   "version": "3.12.9"
  }
 },
 "nbformat": 4,
 "nbformat_minor": 5
}
