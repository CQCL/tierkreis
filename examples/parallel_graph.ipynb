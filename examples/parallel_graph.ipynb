{
 "cells": [
  {
   "cell_type": "markdown",
   "id": "18d4db94",
   "metadata": {},
   "source": [
    "# Parallel graph\n",
    "\n",
    "An example of how to run several CPU intensive nodes in parallel and aggregate the results.\n",
    "\n",
    "## Example worker\n",
    "\n",
    "The example worker code is [here](./example_workers/auth_worker/main.py).\n",
    "It uses an encryption function as a placeholder for a CPU intensive worker function.\n",
    "For demonstration purposes we ensure that the plaintexts are short enough (and the work factor small enough) that the graph runs in under 10s.\n",
    "\n",
    "## Generating stubs\n",
    "\n",
    "Since this worker uses the Tierkreis Python library, we can automatically generate stub files using the following command.\n",
    "The stub files will provide us with type hints in the graph building process later on."
   ]
  },
  {
   "cell_type": "code",
   "execution_count": null,
   "id": "4d6e1e1a",
   "metadata": {},
   "outputs": [],
   "source": [
    "# Generate stubs file.\n",
    "!cd ./example_workers/auth_worker && uv run main.py --stubs-path stubs.py\n",
    "# Format and lint generated file.\n",
    "!uv run ruff format ./example_workers/auth_worker/stubs.py\n",
    "!uv run ruff check --fix ./example_workers/auth_worker/stubs.py"
   ]
  },
  {
   "cell_type": "markdown",
   "id": "684117fc",
   "metadata": {},
   "source": [
    "## Writing a graph\n",
    "\n",
    "We can import this stub file to help create our graph.\n",
    "\n",
    "The graph builder manipulates references to values, not the values themselves.\n",
    "(The one exception to this rule is when we add a constant value to a graph using `GraphBuilder.const`. Then the actual value is added to the graph definition and `GraphBuilder.const` returns a reference to this value.)\n",
    "The references are type checked using the `TKRRef` type.\n",
    "I.e. a reference to an `int` has the type `TKRRef[int]`."
   ]
  },
  {
   "cell_type": "code",
   "execution_count": null,
   "id": "8ccc790b",
   "metadata": {},
   "outputs": [],
   "source": [
    "from typing import NamedTuple\n",
    "from tierkreis.controller.data.core import EmptyModel\n",
    "from tierkreis.builder import GraphBuilder\n",
    "from tierkreis.controller.data.models import TKR\n",
    "from example_workers.auth_worker.stubs import encrypt, EncryptionResult\n",
    "from tierkreis.builtins.stubs import mean\n",
    "\n",
    "\n",
    "def map_body():\n",
    "    g = GraphBuilder(TKR[str], EncryptionResult)\n",
    "    result = g.task(encrypt(plaintext=g.inputs, work_factor=g.const(2**14)))\n",
    "    g.outputs(result)\n",
    "    return g\n",
    "\n",
    "\n",
    "class GraphOutputs(NamedTuple):\n",
    "    average_time_taken: TKR[float]\n",
    "    ciphertexts: TKR[list[str]]\n",
    "\n",
    "\n",
    "def graph():\n",
    "    g = GraphBuilder(EmptyModel, GraphOutputs)\n",
    "    plaintexts = g.const([f\"plaintext+{n}\" for n in range(20)])\n",
    "    results = g.map(map_body(), plaintexts)\n",
    "\n",
    "    ciphertexts = g.map(lambda x: x.ciphertext, results)\n",
    "    times = g.map(lambda x: x.time_taken, results)\n",
    "\n",
    "    av = g.task(mean(values=times))\n",
    "    out = GraphOutputs(ciphertexts=ciphertexts, average_time_taken=av)\n",
    "\n",
    "    g.outputs(out)\n",
    "    return g"
   ]
  },
  {
   "cell_type": "markdown",
   "id": "91cbf572",
   "metadata": {},
   "source": [
    "## Running the graph\n",
    "\n",
    "In order to run a graph we need to choose a storage backend and executor.\n",
    "In this example we choose a simple filestorage backend and the UV executor.\n",
    "For the UV executor the registry path should be a folder continaing all the  workers we use.\n",
    "\n",
    "Then we pass the storage, executor, graph into the `run_graph` function.\n",
    "At this point we have the option to pass additional graph inputs."
   ]
  },
  {
   "cell_type": "code",
   "execution_count": null,
   "id": "103a3de9",
   "metadata": {},
   "outputs": [],
   "source": [
    "import json\n",
    "from pathlib import Path\n",
    "import time\n",
    "from uuid import UUID\n",
    "from tierkreis.controller import run_graph\n",
    "from tierkreis.controller.data.location import Loc\n",
    "from tierkreis.controller.executor.uv_executor import UvExecutor\n",
    "from tierkreis.controller.storage.filestorage import ControllerFileStorage\n",
    "\n",
    "storage = ControllerFileStorage(UUID(int=2048), \"auth_graph\", do_cleanup=True)\n",
    "executor = UvExecutor(\n",
    "    registry_path=Path(\"./example_workers\"), logs_path=storage.logs_path\n",
    ")\n",
    "start = time.time()\n",
    "run_graph(storage, executor, graph().data, {})\n",
    "total_time = time.time() - start\n",
    "\n",
    "av = json.loads(storage.read_output(Loc(), \"average_time_taken\"))\n",
    "ciphertexts = json.loads(storage.read_output(Loc(), \"ciphertexts\"))\n",
    "print(f\"Encrypted 20 plaintexts in {total_time:1g}s with mean encryption time {av:1g}\")"
   ]
  },
  {
   "cell_type": "markdown",
   "id": "a617edf9",
   "metadata": {},
   "source": [
    "We should see that the total time to encrypt the 20 plaintexts is quite close to the time taken for the whole workflow, which indicates that the encryptions were run in parallel."
   ]
  }
 ],
 "metadata": {
  "kernelspec": {
   "display_name": "tierkreis",
   "language": "python",
   "name": "python3"
  },
  "language_info": {
   "codemirror_mode": {
    "name": "ipython",
    "version": 3
   },
   "file_extension": ".py",
   "mimetype": "text/x-python",
   "name": "python",
   "nbconvert_exporter": "python",
   "pygments_lexer": "ipython3",
   "version": "3.12.9"
  }
 },
 "nbformat": 4,
 "nbformat_minor": 5
}
