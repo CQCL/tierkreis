{
 "cells": [
  {
   "cell_type": "markdown",
   "metadata": {},
   "source": [
    "*The same example as variational.ipynb but using the VizRuntime for\n",
    "visualisation instead*\n",
    "\n",
    "A toy variational quantum algorithm defined in Tierkreis. See the paper for more\n",
    "details: [Tierkreis: a Dataflow Framework for\n",
    "Hybrid Quantum-Classical Computing](https://arxiv.org/abs/2211.02350)\n",
    "\n",
    "\n",
    "You will need tierkreis and pytket-qiskit installed for this:"
   ]
  },
  {
   "cell_type": "code",
   "execution_count": 1,
   "metadata": {},
   "outputs": [],
   "source": [
    "%pip install tierkreis[typecheck,commontypes]==0.2.0 pytket-qiskit==0.41\n",
    "# remove typecheck if it is not supported on your system"
   ]
  },
  {
   "cell_type": "code",
   "execution_count": 1,
   "metadata": {},
   "outputs": [],
   "source": [
    "import json\n",
    "from tierkreis.builder import (\n",
    "    Output,\n",
    "    IfElse,\n",
    "    If,\n",
    "    Else,\n",
    "    Const,\n",
    "    loop,\n",
    "    graph,\n",
    "    closure,\n",
    "    Input,\n",
    "    Continue,\n",
    "    Break,\n",
    "    Copyable,\n",
    "    Namespace,\n",
    ")\n",
    "\n",
    "from tierkreis.pyruntime.python_runtime import VizRuntime\n",
    "import sys\n",
    "from pytket import Circuit\n",
    "from sympy import symbols\n"
   ]
  },
  {
   "cell_type": "markdown",
   "metadata": {},
   "source": [
    "First we set up our `VizRuntime` client with the namespaces we need (some have to\n",
    "be appended to the path, make sure you run this notebook from the `examples`\n",
    "directory, or adjust `_TK_ROOT_DIR` accordingly)."
   ]
  },
  {
   "cell_type": "code",
   "execution_count": 2,
   "metadata": {},
   "outputs": [],
   "source": [
    "from pathlib import Path\n",
    "\n",
    "_TK_ROOT_DIR = Path(\"..\")\n",
    "sys.path.append(str(_TK_ROOT_DIR / \"tests/\"))\n",
    "sys.path.append(str(_TK_ROOT_DIR / \"pytket_worker/\"))\n",
    "import test_worker.main\n",
    "import pytket_worker.main\n",
    "\n",
    "# sc22_worker is already in same directory\n",
    "import sc22_worker.main\n",
    "\n",
    "cl = VizRuntime(\"http://localhost:3000\", [test_worker.main.root, pytket_worker.main.root, sc22_worker.main.root])\n",
    "\n",
    "sig = await cl.get_signature()\n",
    "bi = Namespace(sig)\n",
    "pt = bi[\"pytket\"]\n",
    "pn = bi[\"python_nodes\"]\n",
    "sc = bi[\"sc22\"]\n"
   ]
  },
  {
   "cell_type": "markdown",
   "metadata": {},
   "source": [
    "We now define a parametrized [pytket](https://github.com/CQCL/tket) circuit\n",
    "with two parameters _a_ and _b_ which we will optimise according to some cost function."
   ]
  },
  {
   "cell_type": "code",
   "execution_count": 4,
   "metadata": {},
   "outputs": [
    {
     "data": {
      "text/html": [
       "\n",
       "\n",
       "\n",
       "\n",
       "\n",
       "\n",
       "<div style=\"resize: vertical; overflow: auto; height: 400px; display: block\">\n",
       "    <iframe srcdoc=\"\n",
       "&lt;!DOCTYPE html&gt;\n",
       "&lt;html lang=&#34;en&#34;&gt;\n",
       "&lt;head&gt;\n",
       "    &lt;meta charset=&#34;UTF-8&#34;&gt;\n",
       "    &lt;!-- Download Vue 3--&gt;\n",
       "&lt;script type=&#34;application/javascript&#34; src=&#34;https://cdn.jsdelivr.net/npm/vue@3&#34;&gt;&lt;/script&gt;\n",
       "&lt;!-- Download Circuit Renderer with styles --&gt;\n",
       "&lt;script type=&#34;application/javascript&#34; src=&#34;https://unpkg.com/pytket-circuit-renderer@0.6/dist/pytket-circuit-renderer.umd.js&#34;&gt;&lt;/script&gt;\n",
       "&lt;link rel=&#34;stylesheet&#34; href=&#34;https://unpkg.com/pytket-circuit-renderer@0.6/dist/pytket-circuit-renderer.css&#34;&gt;\n",
       "&lt;/head&gt;\n",
       "&lt;body&gt;\n",
       "\n",
       "\n",
       "\n",
       "    &lt;div id=&#34;circuit-display-vue-container-689f6701-4f5b-4908-bfe3-7b8f19bc621a&#34; class=&#34;pytket-circuit-display-container&#34;&gt;\n",
       "        &lt;div style=&#34;display: none&#34;&gt;\n",
       "            &lt;div id=&#34;circuit-json-to-display&#34;&gt;{&#34;bits&#34;: [[&#34;c&#34;, [0]], [&#34;c&#34;, [1]]], &#34;commands&#34;: [{&#34;args&#34;: [[&#34;q&#34;, [0]]], &#34;op&#34;: {&#34;params&#34;: [&#34;0.5 + a&#34;], &#34;type&#34;: &#34;Rx&#34;}}, {&#34;args&#34;: [[&#34;q&#34;, [1]]], &#34;op&#34;: {&#34;params&#34;: [&#34;-0.5 + b&#34;], &#34;type&#34;: &#34;Rx&#34;}}, {&#34;args&#34;: [[&#34;q&#34;, [0]], [&#34;q&#34;, [1]]], &#34;op&#34;: {&#34;type&#34;: &#34;CZ&#34;}}, {&#34;args&#34;: [[&#34;q&#34;, [0]]], &#34;op&#34;: {&#34;params&#34;: [&#34;0.5 + b&#34;], &#34;type&#34;: &#34;Rx&#34;}}, {&#34;args&#34;: [[&#34;q&#34;, [1]]], &#34;op&#34;: {&#34;params&#34;: [&#34;-0.5 + a&#34;], &#34;type&#34;: &#34;Rx&#34;}}, {&#34;args&#34;: [[&#34;q&#34;, [0]], [&#34;c&#34;, [0]]], &#34;op&#34;: {&#34;type&#34;: &#34;Measure&#34;}}, {&#34;args&#34;: [[&#34;q&#34;, [1]], [&#34;c&#34;, [1]]], &#34;op&#34;: {&#34;type&#34;: &#34;Measure&#34;}}], &#34;created_qubits&#34;: [], &#34;discarded_qubits&#34;: [], &#34;implicit_permutation&#34;: [[[&#34;q&#34;, [0]], [&#34;q&#34;, [0]]], [[&#34;q&#34;, [1]], [&#34;q&#34;, [1]]]], &#34;phase&#34;: &#34;0.0&#34;, &#34;qubits&#34;: [[&#34;q&#34;, [0]], [&#34;q&#34;, [1]]]}&lt;/div&gt;\n",
       "        &lt;/div&gt;\n",
       "        &lt;circuit-display-container\n",
       "                :circuit-element-str=&#34;&#39;#circuit-json-to-display&#39;&#34;\n",
       "                :init-render-options=&#34;initRenderOptions&#34;\n",
       "        &gt;&lt;/circuit-display-container&gt;\n",
       "    &lt;/div&gt;\n",
       "    &lt;script type=&#34;application/javascript&#34;&gt;\n",
       "      const circuitRendererUid = &#34;689f6701-4f5b-4908-bfe3-7b8f19bc621a&#34;;\n",
       "      const displayOptions = JSON.parse(&#39;{}&#39;);\n",
       "\n",
       "      // Script to initialise the circuit renderer app\n",
       "\n",
       "const { createApp } = Vue;\n",
       "const circuitDisplayContainer = window[&#34;pytket-circuit-renderer&#34;].default;\n",
       "// Init variables to be shared between circuit display instances\n",
       "if (typeof window.pytketCircuitDisplays === &#34;undefined&#34;) {\n",
       "    window.pytketCircuitDisplays = {};\n",
       "}\n",
       "// Create the root Vue component\n",
       "const app = createApp({\n",
       "    delimiters: [&#39;[[#&#39;, &#39;#]]&#39;],\n",
       "    components: { circuitDisplayContainer },\n",
       "    data () {\n",
       "      return {\n",
       "        initRenderOptions: displayOptions,\n",
       "      }\n",
       "    }\n",
       "})\n",
       "app.config.unwrapInjectedRef = true;\n",
       "app.mount(&#34;#circuit-display-vue-container-&#34;+circuitRendererUid);\n",
       "window.pytketCircuitDisplays[circuitRendererUid] = app;\n",
       "    &lt;/script&gt;\n",
       "\n",
       "\n",
       "\n",
       "&lt;/body&gt;\n",
       "&lt;/html&gt;\n",
       "\"\n",
       "            width=\"100%\" height=\"100%\"\n",
       "            style=\"border: none; outline: none; overflow: auto\"></iframe>\n",
       "</div>\n",
       "\n"
      ],
      "text/plain": [
       "<IPython.core.display.HTML object>"
      ]
     },
     "metadata": {},
     "output_type": "display_data"
    }
   ],
   "source": [
    "from pytket.circuit.display import render_circuit_jupyter\n",
    "\n",
    "# Define a simple parametrized pytket circuit\n",
    "a, b = symbols(\"a b\")\n",
    "ansatz = Circuit(2)\n",
    "ansatz.Rx(0.5 + a, 0).Rx(-0.5 + b, 1).CZ(0, 1).Rx(0.5 + b, 0).Rx(-0.5 + a, 1)\n",
    "ansatz.measure_all()\n",
    "\n",
    "\n",
    "render_circuit_jupyter(ansatz)\n"
   ]
  },
  {
   "cell_type": "markdown",
   "metadata": {},
   "source": [
    "Next, a graph to store this circuit and output it as a Tierkreis value to\n",
    "be used later, and a simple utility graph."
   ]
  },
  {
   "cell_type": "code",
   "execution_count": 5,
   "metadata": {},
   "outputs": [],
   "source": [
    "@graph()\n",
    "def load_circuit() -> Output:\n",
    "    js_str = json.dumps(ansatz.to_dict())\n",
    "    c = pt.load_circuit_json(Const(js_str))\n",
    "    return Output(c)\n",
    "\n",
    "\n",
    "# a simple utility graph to push a pair on to a list\n",
    "@graph()\n",
    "def push_pair(lst, first, second) -> Output:\n",
    "    pair = bi.make_pair(first, second)\n",
    "    return Output(bi.push(lst, pair))\n",
    "\n",
    "\n",
    "cl.viz_graph(push_pair)"
   ]
  },
  {
   "cell_type": "markdown",
   "metadata": {},
   "source": [
    "Now we can define a graph to generate the initial value for our optimisation\n",
    "loop. In our variational experiment, at each iteration we will execute the\n",
    "circuit with a set of parameters, calculate the cost function from the results,\n",
    "and append both parameters and cost to a vector. This `initial` function\n",
    "prepares the first value of the vector, given a graph `run` with which to\n",
    "evaluate the cost for some parameters."
   ]
  },
  {
   "cell_type": "code",
   "execution_count": 5,
   "metadata": {},
   "outputs": [],
   "source": [
    "# Generate an initial value for the optimisation\n",
    "@graph()\n",
    "def initial(run) -> Output:\n",
    "    init_params = Copyable(Const([0.2, 0.2]))\n",
    "    init_score = bi.eval(run, params=init_params)\n",
    "    return Output(push_pair(Const([]), init_params, init_score))\n",
    "\n",
    "\n",
    "cl.viz_graph(initial)\n"
   ]
  },
  {
   "cell_type": "markdown",
   "metadata": {},
   "source": [
    "Our cost function for the minimisation is the expectation value of the parity\n",
    "operator _p_, we can calculate this from the expectation value _z_ of the all _Z_\n",
    "operator using the function $p = (1 - z)/2$. The following graph calculates this\n",
    "function on floating point values."
   ]
  },
  {
   "cell_type": "code",
   "execution_count": 6,
   "metadata": {},
   "outputs": [],
   "source": [
    "@graph()\n",
    "def zexp_to_parity(zexp) -> Output:\n",
    "    y = bi.fsub(Const(1.0), zexp)\n",
    "    return Output(bi.fdiv(y, Const(2.0)))\n",
    "\n",
    "\n",
    "cl.viz_graph(zexp_to_parity)"
   ]
  },
  {
   "cell_type": "markdown",
   "metadata": {},
   "source": [
    "We are now ready to define our main graph. First we have to define a graph for\n",
    "running the circuit and calculating the cost function, this is defined as the\n",
    "_closure_ `run_circuit`.\n",
    "This is used in the main optimisation loop, the body of which is defined in the\n",
    "`loop_def` function; at each iteration the worker function\n",
    "`new_params` produces updated parameters, then convergence is checked using\n",
    "`converged`, at which point we either conditionally `Break` with the result or `Continue`."
   ]
  },
  {
   "cell_type": "code",
   "execution_count": 7,
   "metadata": {},
   "outputs": [],
   "source": [
    "# if you don't have the typecheck feature installed, remove the type_check_sig parameter\n",
    "@graph(type_check_sig=sig)\n",
    "def main() -> Output:\n",
    "    circ = load_circuit()\n",
    "\n",
    "    @closure()\n",
    "    def run_circuit(params: Input) -> Output:\n",
    "        syms = Const([\"a\", \"b\"])\n",
    "        # substitute parameters in circuit with values a, b\n",
    "        subs = pt.substitute_symbols(circ, syms, params)\n",
    "        res = pt.execute(subs, Const(1000), Const(\"AerBackend\"))\n",
    "        o = Output(zexp_to_parity(pt.z_expectation(res)))\n",
    "        return o\n",
    "\n",
    "    run_circuit.copyable()\n",
    "\n",
    "    @loop()\n",
    "    def loop_def(initial: Input) -> Output:\n",
    "        recs = Copyable(initial)\n",
    "        new_cand = Copyable(sc.new_params(recs))\n",
    "        score = run_circuit(new_cand)\n",
    "        recs = Copyable(push_pair(recs, new_cand, score))\n",
    "\n",
    "        with IfElse(sc.converged(recs)) as lbody:\n",
    "            with If():\n",
    "                Break(recs)\n",
    "            with Else():\n",
    "                Continue(recs)\n",
    "        o = Output(lbody.nref)\n",
    "        return o\n",
    "\n",
    "    init_val = initial(run_circuit)\n",
    "    # run loop with initial value\n",
    "    return Output(loop_def(init_val))\n",
    "\n",
    "main = main.inline_boxes(True)\n",
    "cl.viz_graph(main)"
   ]
  },
  {
   "cell_type": "markdown",
   "metadata": {},
   "source": [
    "We are now ready to run the graph and check the results!"
   ]
  },
  {
   "cell_type": "code",
   "execution_count": 8,
   "metadata": {},
   "outputs": [],
   "source": [
    "res = await cl.run_viz_graph(main)\n",
    "\n",
    "# print final parameters and score\n",
    "res[\"value\"].try_autopython()[-1]\n"
   ]
  }
 ],
 "metadata": {
  "kernelspec": {
   "display_name": "Python 3.10.0 ('python-3.10.0': venv)",
   "language": "python",
   "name": "python3"
  },
  "language_info": {
   "codemirror_mode": {
    "name": "ipython",
    "version": 3
   },
   "file_extension": ".py",
   "mimetype": "text/x-python",
   "name": "python",
   "nbconvert_exporter": "python",
   "pygments_lexer": "ipython3",
   "version": "3.10.12"
  },
  "orig_nbformat": 4,
  "vscode": {
   "interpreter": {
    "hash": "bab04553203f566fbaad43a8a237dcab3fe645726c1f3e19ee8d4e5b24453672"
   }
  }
 },
 "nbformat": 4,
 "nbformat_minor": 2
}
