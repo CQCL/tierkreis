{
 "cells": [
  {
   "cell_type": "markdown",
   "metadata": {},
   "source": [
    "A toy variational quantum algorithm defined in Tierkreis. See the paper for more\n",
    "details: [Tierkreis: a Dataflow Framework for\n",
    "Hybrid Quantum-Classical Computing](https://arxiv.org/abs/2211.02350)\n",
    "\n",
    "\n",
    "You will need tierkreis and pytket-qiskit installed for this:"
   ]
  },
  {
   "cell_type": "code",
   "execution_count": null,
   "metadata": {},
   "outputs": [],
   "source": [
    "%pip install tierkreis[typecheck,commontypes]==0.1.0 pytket-qiskit==0.24\n",
    "# remove typecheck if it is not supported on your system"
   ]
  },
  {
   "cell_type": "code",
   "execution_count": 1,
   "metadata": {},
   "outputs": [],
   "source": [
    "import json\n",
    "from tierkreis.builder import (\n",
    "    Output,\n",
    "    IfElse,\n",
    "    If,\n",
    "    Else,\n",
    "    Const,\n",
    "    loop,\n",
    "    Box,\n",
    "    graph,\n",
    "    closure,\n",
    "    Input,\n",
    "    Continue,\n",
    "    Break,\n",
    "    Copyable,\n",
    "    Namespace,\n",
    ")\n",
    "\n",
    "from tierkreis.pyruntime import PyRuntime\n",
    "import sys\n",
    "from pytket import Circuit\n",
    "from sympy import symbols\n"
   ]
  },
  {
   "cell_type": "markdown",
   "metadata": {},
   "source": [
    "First we set up our `PyRuntime` client with the namespaces we need (some have to\n",
    "be appended to the path, make sure you run this notebook from the `examples`\n",
    "directory, or adjust `_TK_ROOT_DIR` accordingly)."
   ]
  },
  {
   "cell_type": "code",
   "execution_count": 2,
   "metadata": {},
   "outputs": [],
   "source": [
    "from pathlib import Path\n",
    "\n",
    "_TK_ROOT_DIR = Path(\"..\")\n",
    "sys.path.append(str(_TK_ROOT_DIR / \"tests/\"))\n",
    "sys.path.append(str(_TK_ROOT_DIR / \"pytket_worker/\"))\n",
    "import test_worker.main\n",
    "import pytket_worker.main\n",
    "\n",
    "# sc22_worker is already in same directory\n",
    "import sc22_worker.main\n",
    "\n",
    "cl = PyRuntime([test_worker.main.root, pytket_worker.main.root, sc22_worker.main.root])\n",
    "\n",
    "sig = await cl.get_signature()\n",
    "bi = Namespace(sig)\n",
    "pt = bi[\"pytket\"]\n",
    "pn = bi[\"python_nodes\"]\n",
    "sc = bi[\"sc22\"]\n"
   ]
  },
  {
   "cell_type": "markdown",
   "metadata": {},
   "source": [
    "We now define a parametrized [pytket](https://github.com/CQCL/tket) circuit\n",
    "with two parameters _a_ and _b_ which we will optimise according to some cost function."
   ]
  },
  {
   "cell_type": "code",
   "execution_count": 3,
   "metadata": {},
   "outputs": [
    {
     "data": {
      "text/html": [
       "\n",
       "\n",
       "\n",
       "\n",
       "\n",
       "\n",
       "<iframe srcdoc=\"\n",
       "&lt;!DOCTYPE html&gt;\n",
       "&lt;html lang=&#34;en&#34;&gt;\n",
       "&lt;head&gt;\n",
       "    &lt;meta charset=&#34;UTF-8&#34;&gt;\n",
       "    &lt;script type=&#34;application/javascript&#34; src=&#34;https://cdn.jsdelivr.net/npm/vue@3&#34;&gt;&lt;/script&gt;\n",
       "    &lt;script type=&#34;application/javascript&#34; src=&#34;https://unpkg.com/pytket-circuit-renderer@0.3/dist/pytket-circuit-renderer.umd.js&#34;&gt;&lt;/script&gt;\n",
       "    &lt;link rel=&#34;stylesheet&#34; href=&#34;https://unpkg.com/pytket-circuit-renderer@0.3/dist/pytket-circuit-renderer.css&#34;&gt;\n",
       "&lt;/head&gt;\n",
       "&lt;body&gt;\n",
       "    &lt;div id=&#34;circuit-display-vue-container-5f7aabd9-ef9e-4637-bb14-ba62f1ba55b5&#34; class=&#34;pytket-circuit-display-container&#34;&gt;\n",
       "        &lt;div style=&#34;display: none&#34;&gt;\n",
       "            &lt;div id=&#34;circuit-json-to-display&#34;&gt;{&#34;bits&#34;: [[&#34;c&#34;, [0]], [&#34;c&#34;, [1]]], &#34;commands&#34;: [{&#34;args&#34;: [[&#34;q&#34;, [0]]], &#34;op&#34;: {&#34;params&#34;: [&#34;0.5 + a&#34;], &#34;type&#34;: &#34;Rx&#34;}}, {&#34;args&#34;: [[&#34;q&#34;, [1]]], &#34;op&#34;: {&#34;params&#34;: [&#34;-0.5 + b&#34;], &#34;type&#34;: &#34;Rx&#34;}}, {&#34;args&#34;: [[&#34;q&#34;, [0]], [&#34;q&#34;, [1]]], &#34;op&#34;: {&#34;type&#34;: &#34;CZ&#34;}}, {&#34;args&#34;: [[&#34;q&#34;, [0]]], &#34;op&#34;: {&#34;params&#34;: [&#34;0.5 + b&#34;], &#34;type&#34;: &#34;Rx&#34;}}, {&#34;args&#34;: [[&#34;q&#34;, [1]]], &#34;op&#34;: {&#34;params&#34;: [&#34;-0.5 + a&#34;], &#34;type&#34;: &#34;Rx&#34;}}, {&#34;args&#34;: [[&#34;q&#34;, [0]], [&#34;c&#34;, [0]]], &#34;op&#34;: {&#34;type&#34;: &#34;Measure&#34;}}, {&#34;args&#34;: [[&#34;q&#34;, [1]], [&#34;c&#34;, [1]]], &#34;op&#34;: {&#34;type&#34;: &#34;Measure&#34;}}], &#34;created_qubits&#34;: [], &#34;discarded_qubits&#34;: [], &#34;implicit_permutation&#34;: [[[&#34;q&#34;, [0]], [&#34;q&#34;, [0]]], [[&#34;q&#34;, [1]], [&#34;q&#34;, [1]]]], &#34;phase&#34;: &#34;0.0&#34;, &#34;qubits&#34;: [[&#34;q&#34;, [0]], [&#34;q&#34;, [1]]]}&lt;/div&gt;\n",
       "        &lt;/div&gt;\n",
       "        &lt;circuit-display-container :circuit-element-str=&#34;&#39;#circuit-json-to-display&#39;&#34;&gt;&lt;/circuit-display-container&gt;\n",
       "    &lt;/div&gt;\n",
       "    &lt;script type=&#34;application/javascript&#34;&gt;\n",
       "        const { createApp } = Vue;\n",
       "        const circuitDisplayContainer = window[&#34;pytket-circuit-renderer&#34;].default;\n",
       "        // Init variables to be shared between circuit display instances\n",
       "        if (typeof window.pytketCircuitDisplays === &#34;undefined&#34;) {\n",
       "            window.pytketCircuitDisplays = {};\n",
       "        }\n",
       "        const uid = &#34;5f7aabd9-ef9e-4637-bb14-ba62f1ba55b5&#34;;\n",
       "        // Create the root Vue component\n",
       "        const app = createApp({\n",
       "            delimiters: [&#39;[[#&#39;, &#39;#]]&#39;],\n",
       "            components: { circuitDisplayContainer },\n",
       "        })\n",
       "        app.config.unwrapInjectedRef = true;\n",
       "        app.mount(&#34;#circuit-display-vue-container-&#34;+uid);\n",
       "        window.pytketCircuitDisplays[uid] = app;\n",
       "    &lt;/script&gt;\n",
       "&lt;/body&gt;\n",
       "&lt;/html&gt;\n",
       "\"\n",
       "        width=\"100%\" height=\"200px\"\n",
       "        style=\"border: none; outline: none; resize: vertical; overflow: auto\"></iframe>\n",
       "\n"
      ],
      "text/plain": [
       "<IPython.core.display.HTML object>"
      ]
     },
     "metadata": {},
     "output_type": "display_data"
    }
   ],
   "source": [
    "from pytket.circuit.display import render_circuit_jupyter\n",
    "\n",
    "# Define a simple parametrized pytket circuit\n",
    "a, b = symbols(\"a b\")\n",
    "ansatz = Circuit(2)\n",
    "ansatz.Rx(0.5 + a, 0).Rx(-0.5 + b, 1).CZ(0, 1).Rx(0.5 + b, 0).Rx(-0.5 + a, 1)\n",
    "ansatz.measure_all()\n",
    "\n",
    "\n",
    "render_circuit_jupyter(ansatz)\n"
   ]
  },
  {
   "cell_type": "markdown",
   "metadata": {},
   "source": [
    "Next, a graph to store this circuit and output it as a Tierkreis value to\n",
    "be used later, and a simple utility graph."
   ]
  },
  {
   "cell_type": "code",
   "execution_count": 4,
   "metadata": {},
   "outputs": [
    {
     "data": {
      "image/svg+xml": "<?xml version=\"1.0\" encoding=\"UTF-8\" standalone=\"no\"?>\n<!DOCTYPE svg PUBLIC \"-//W3C//DTD SVG 1.1//EN\"\n \"http://www.w3.org/Graphics/SVG/1.1/DTD/svg11.dtd\">\n<!-- Generated by graphviz version 2.43.0 (0)\n -->\n<!-- Title: push_pair Pages: 1 -->\n<svg width=\"131pt\" height=\"328pt\"\n viewBox=\"0.00 0.00 131.00 328.00\" xmlns=\"http://www.w3.org/2000/svg\" xmlns:xlink=\"http://www.w3.org/1999/xlink\">\n<g id=\"graph0\" class=\"graph\" transform=\"scale(1 1) rotate(0) translate(4 324)\">\n<title>push_pair</title>\n<polygon fill=\"white\" stroke=\"transparent\" points=\"-4,4 -4,-324 127,-324 127,4 -4,4\"/>\n<polygon fill=\"white\" stroke=\"transparent\" points=\"23,-288 23,-316 100,-316 100,-288 23,-288\"/>\n<text text-anchor=\"start\" x=\"31.5\" y=\"-300.2\" font-family=\"monospace\" font-weight=\"bold\" font-size=\"11.00\">push_pair</text>\n<polygon fill=\"none\" stroke=\"#1cade4\" stroke-width=\"2\" points=\"24,-289 24,-315 99,-315 99,-289 24,-289\"/>\n<!-- //0 -->\n<g id=\"node1\" class=\"node\">\n<title>//0</title>\n<polygon fill=\"white\" stroke=\"transparent\" points=\"0,-232 0,-284 123,-284 123,-232 0,-232\"/>\n<text text-anchor=\"start\" x=\"58.5\" y=\"-269.2\" font-family=\"monospace\" font-weight=\"bold\" font-size=\"11.00\"> </text>\n<polygon fill=\"white\" stroke=\"transparent\" points=\"6.5,-238 6.5,-255 43.5,-255 43.5,-238 6.5,-238\"/>\n<polygon fill=\"none\" stroke=\"#1cade4\" points=\"6.5,-238 6.5,-255 43.5,-255 43.5,-238 6.5,-238\"/>\n<text text-anchor=\"start\" x=\"9.5\" y=\"-244\" font-family=\"monospace\" font-size=\"10.00\">first</text>\n<polygon fill=\"white\" stroke=\"transparent\" points=\"46.5,-238 46.5,-255 89.5,-255 89.5,-238 46.5,-238\"/>\n<polygon fill=\"none\" stroke=\"#1cade4\" points=\"46.5,-238 46.5,-255 89.5,-255 89.5,-238 46.5,-238\"/>\n<text text-anchor=\"start\" x=\"49.5\" y=\"-244\" font-family=\"monospace\" font-size=\"10.00\">second</text>\n<polygon fill=\"white\" stroke=\"transparent\" points=\"92.5,-238 92.5,-255 117.5,-255 117.5,-238 92.5,-238\"/>\n<polygon fill=\"none\" stroke=\"#1cade4\" points=\"92.5,-238 92.5,-255 117.5,-255 117.5,-238 92.5,-238\"/>\n<text text-anchor=\"start\" x=\"95.5\" y=\"-244\" font-family=\"monospace\" font-size=\"10.00\">lst</text>\n<polygon fill=\"none\" stroke=\"white\" points=\"0,-232 0,-284 123,-284 123,-232 0,-232\"/>\n</g>\n<!-- //2 -->\n<g id=\"node3\" class=\"node\">\n<title>//2</title>\n<polygon fill=\"#accbf9\" stroke=\"transparent\" points=\"0,-146 0,-224 95,-224 95,-146 0,-146\"/>\n<polygon fill=\"white\" stroke=\"transparent\" points=\"6.5,-201 6.5,-218 43.5,-218 43.5,-201 6.5,-201\"/>\n<polygon fill=\"none\" stroke=\"#1cade4\" points=\"6.5,-201 6.5,-218 43.5,-218 43.5,-201 6.5,-201\"/>\n<text text-anchor=\"start\" x=\"9.5\" y=\"-207\" font-family=\"monospace\" font-size=\"10.00\">first</text>\n<polygon fill=\"white\" stroke=\"transparent\" points=\"46.5,-201 46.5,-218 89.5,-218 89.5,-201 46.5,-201\"/>\n<polygon fill=\"none\" stroke=\"#1cade4\" points=\"46.5,-201 46.5,-218 89.5,-218 89.5,-201 46.5,-201\"/>\n<text text-anchor=\"start\" x=\"49.5\" y=\"-207\" font-family=\"monospace\" font-size=\"10.00\">second</text>\n<text text-anchor=\"start\" x=\"17.5\" y=\"-183.2\" font-family=\"monospace\" font-weight=\"bold\" font-size=\"11.00\">make_pair</text>\n<polygon fill=\"white\" stroke=\"transparent\" points=\"6.5,-152 6.5,-169 89.5,-169 89.5,-152 6.5,-152\"/>\n<polygon fill=\"none\" stroke=\"#1cade4\" points=\"6.5,-152 6.5,-169 89.5,-169 89.5,-152 6.5,-152\"/>\n<text text-anchor=\"start\" x=\"35.5\" y=\"-158\" font-family=\"monospace\" font-size=\"10.00\">pair</text>\n<polygon fill=\"none\" stroke=\"white\" points=\"0,-146 0,-224 95,-224 95,-146 0,-146\"/>\n</g>\n<!-- //0&#45;&gt;//2 -->\n<g id=\"edge1\" class=\"edge\">\n<title>//0:out.first&#45;&gt;//2:in.first</title>\n<path fill=\"none\" stroke=\"#1cade4\" stroke-width=\"1.5\" d=\"M24.5,-237C24.5,-229 24.5,-227 24.5,-219\"/>\n</g>\n<!-- //0&#45;&gt;//2 -->\n<g id=\"edge2\" class=\"edge\">\n<title>//0:out.second&#45;&gt;//2:in.second</title>\n<path fill=\"none\" stroke=\"#1cade4\" stroke-width=\"1.5\" d=\"M68.5,-237C68.5,-229 68.5,-227 68.5,-219\"/>\n</g>\n<!-- //3 -->\n<g id=\"node4\" class=\"node\">\n<title>//3</title>\n<polygon fill=\"#accbf9\" stroke=\"transparent\" points=\"46,-60 46,-138 117,-138 117,-60 46,-60\"/>\n<polygon fill=\"white\" stroke=\"transparent\" points=\"52.5,-115 52.5,-132 77.5,-132 77.5,-115 52.5,-115\"/>\n<polygon fill=\"none\" stroke=\"#1cade4\" points=\"52.5,-115 52.5,-132 77.5,-132 77.5,-115 52.5,-115\"/>\n<text text-anchor=\"start\" x=\"55.5\" y=\"-121\" font-family=\"monospace\" font-size=\"10.00\">vec</text>\n<polygon fill=\"white\" stroke=\"transparent\" points=\"80.5,-115 80.5,-132 111.5,-132 111.5,-115 80.5,-115\"/>\n<polygon fill=\"none\" stroke=\"#1cade4\" points=\"80.5,-115 80.5,-132 111.5,-132 111.5,-115 80.5,-115\"/>\n<text text-anchor=\"start\" x=\"83.5\" y=\"-121\" font-family=\"monospace\" font-size=\"10.00\">item</text>\n<text text-anchor=\"start\" x=\"68\" y=\"-97.2\" font-family=\"monospace\" font-weight=\"bold\" font-size=\"11.00\">push</text>\n<polygon fill=\"white\" stroke=\"transparent\" points=\"52.5,-66 52.5,-83 111.5,-83 111.5,-66 52.5,-66\"/>\n<polygon fill=\"none\" stroke=\"#1cade4\" points=\"52.5,-66 52.5,-83 111.5,-83 111.5,-66 52.5,-66\"/>\n<text text-anchor=\"start\" x=\"72.5\" y=\"-72\" font-family=\"monospace\" font-size=\"10.00\">vec</text>\n<polygon fill=\"none\" stroke=\"white\" points=\"46,-60 46,-138 117,-138 117,-60 46,-60\"/>\n</g>\n<!-- //0&#45;&gt;//3 -->\n<g id=\"edge3\" class=\"edge\">\n<title>//0:out.lst&#45;&gt;//3:in.vec</title>\n<path fill=\"none\" stroke=\"#1cade4\" stroke-width=\"1.5\" d=\"M105.5,-237C105.5,-196.49 124.68,-178.5 100.5,-146 90.35,-132.35 64.5,-150.01 64.5,-133\"/>\n</g>\n<!-- //1 -->\n<g id=\"node2\" class=\"node\">\n<title>//1</title>\n<polygon fill=\"white\" stroke=\"transparent\" points=\"57,0 57,-52 106,-52 106,0 57,0\"/>\n<polygon fill=\"white\" stroke=\"transparent\" points=\"63.5,-29 63.5,-46 100.5,-46 100.5,-29 63.5,-29\"/>\n<polygon fill=\"none\" stroke=\"#1cade4\" points=\"63.5,-29 63.5,-46 100.5,-46 100.5,-29 63.5,-29\"/>\n<text text-anchor=\"start\" x=\"66.5\" y=\"-35\" font-family=\"monospace\" font-size=\"10.00\">value</text>\n<text text-anchor=\"start\" x=\"78.5\" y=\"-11.2\" font-family=\"monospace\" font-weight=\"bold\" font-size=\"11.00\"> </text>\n<polygon fill=\"none\" stroke=\"white\" points=\"57,0 57,-52 106,-52 106,0 57,0\"/>\n</g>\n<!-- //2&#45;&gt;//3 -->\n<g id=\"edge4\" class=\"edge\">\n<title>//2:out.pair&#45;&gt;//3:in.item</title>\n<path fill=\"none\" stroke=\"#1cade4\" stroke-width=\"1.5\" d=\"M90.5,-160C102.79,-160 96.5,-145.29 96.5,-133\"/>\n</g>\n<!-- //3&#45;&gt;//1 -->\n<g id=\"edge5\" class=\"edge\">\n<title>//3:out.vec&#45;&gt;//1:in.value</title>\n<path fill=\"none\" stroke=\"#1cade4\" stroke-width=\"1.5\" d=\"M82.5,-65C82.5,-57 82.5,-55 82.5,-47\"/>\n</g>\n</g>\n</svg>\n",
      "text/plain": [
       "<tierkreis.core.tierkreis_graph.TierkreisGraph at 0x7ff65f5e1c90>"
      ]
     },
     "execution_count": 4,
     "metadata": {},
     "output_type": "execute_result"
    }
   ],
   "source": [
    "@graph()\n",
    "def load_circuit() -> Output:\n",
    "    js_str = json.dumps(ansatz.to_dict())\n",
    "    c = pt.load_circuit_json(Const(js_str))\n",
    "    return Output(c)\n",
    "\n",
    "\n",
    "# a simple utility graph to push a pair on to a list\n",
    "@graph()\n",
    "def push_pair(lst, first, second) -> Output:\n",
    "    pair = bi.make_pair(first, second)\n",
    "    return Output(bi.push(lst, pair))\n",
    "\n",
    "\n",
    "# put graph in a box for later use\n",
    "push_pair_box = Box(push_pair())\n",
    "\n",
    "push_pair()\n"
   ]
  },
  {
   "cell_type": "markdown",
   "metadata": {},
   "source": [
    "Now we can define a graph to generate the initial value for our optimisation\n",
    "loop. In our variational experiment, at each iteration we will execute the\n",
    "circuit with a set of parameters, calculate the cost function from the results,\n",
    "and append both parameters and cost to a vector. This `initial` function\n",
    "prepares the first value of the vector, given a graph `run` with which to\n",
    "evaluate the cost for some parameters."
   ]
  },
  {
   "cell_type": "code",
   "execution_count": 5,
   "metadata": {},
   "outputs": [
    {
     "data": {
      "image/svg+xml": "<?xml version=\"1.0\" encoding=\"UTF-8\" standalone=\"no\"?>\n<!DOCTYPE svg PUBLIC \"-//W3C//DTD SVG 1.1//EN\"\n \"http://www.w3.org/Graphics/SVG/1.1/DTD/svg11.dtd\">\n<!-- Generated by graphviz version 2.43.0 (0)\n -->\n<!-- Title: initial Pages: 1 -->\n<svg width=\"180pt\" height=\"362pt\"\n viewBox=\"0.00 0.00 179.50 362.00\" xmlns=\"http://www.w3.org/2000/svg\" xmlns:xlink=\"http://www.w3.org/1999/xlink\">\n<g id=\"graph0\" class=\"graph\" transform=\"scale(1 1) rotate(0) translate(4 358)\">\n<title>initial</title>\n<polygon fill=\"white\" stroke=\"transparent\" points=\"-4,4 -4,-358 175.5,-358 175.5,4 -4,4\"/>\n<polygon fill=\"white\" stroke=\"transparent\" points=\"53.75,-322 53.75,-350 117.75,-350 117.75,-322 53.75,-322\"/>\n<text text-anchor=\"start\" x=\"61.75\" y=\"-334.2\" font-family=\"monospace\" font-weight=\"bold\" font-size=\"11.00\">initial</text>\n<polygon fill=\"none\" stroke=\"#1cade4\" stroke-width=\"2\" points=\"54.75,-323 54.75,-349 116.75,-349 116.75,-323 54.75,-323\"/>\n<!-- //0 -->\n<g id=\"node1\" class=\"node\">\n<title>//0</title>\n<polygon fill=\"white\" stroke=\"transparent\" points=\"73,-232 73,-284 110,-284 110,-232 73,-232\"/>\n<text text-anchor=\"start\" x=\"88.5\" y=\"-269.2\" font-family=\"monospace\" font-weight=\"bold\" font-size=\"11.00\"> </text>\n<polygon fill=\"white\" stroke=\"transparent\" points=\"79.5,-238 79.5,-255 104.5,-255 104.5,-238 79.5,-238\"/>\n<polygon fill=\"none\" stroke=\"#1cade4\" points=\"79.5,-238 79.5,-255 104.5,-255 104.5,-238 79.5,-238\"/>\n<text text-anchor=\"start\" x=\"82.5\" y=\"-244\" font-family=\"monospace\" font-size=\"10.00\">run</text>\n<polygon fill=\"none\" stroke=\"white\" points=\"73,-232 73,-284 110,-284 110,-232 73,-232\"/>\n</g>\n<!-- //3 -->\n<g id=\"node4\" class=\"node\">\n<title>//3</title>\n<polygon fill=\"#accbf9\" stroke=\"transparent\" points=\"68,-146 68,-224 163,-224 163,-146 68,-146\"/>\n<polygon fill=\"white\" stroke=\"transparent\" points=\"74.5,-201 74.5,-218 111.5,-218 111.5,-201 74.5,-201\"/>\n<polygon fill=\"none\" stroke=\"#1cade4\" points=\"74.5,-201 74.5,-218 111.5,-218 111.5,-201 74.5,-201\"/>\n<text text-anchor=\"start\" x=\"77.5\" y=\"-207\" font-family=\"monospace\" font-size=\"10.00\">thunk</text>\n<polygon fill=\"white\" stroke=\"transparent\" points=\"114.5,-201 114.5,-218 157.5,-218 157.5,-201 114.5,-201\"/>\n<polygon fill=\"none\" stroke=\"#1cade4\" points=\"114.5,-201 114.5,-218 157.5,-218 157.5,-201 114.5,-201\"/>\n<text text-anchor=\"start\" x=\"117.5\" y=\"-207\" font-family=\"monospace\" font-size=\"10.00\">params</text>\n<text text-anchor=\"start\" x=\"102\" y=\"-183.2\" font-family=\"monospace\" font-weight=\"bold\" font-size=\"11.00\">eval</text>\n<polygon fill=\"white\" stroke=\"transparent\" points=\"74.5,-152 74.5,-169 157.5,-169 157.5,-152 74.5,-152\"/>\n<polygon fill=\"none\" stroke=\"#1cade4\" points=\"74.5,-152 74.5,-169 157.5,-169 157.5,-152 74.5,-152\"/>\n<text text-anchor=\"start\" x=\"100.5\" y=\"-158\" font-family=\"monospace\" font-size=\"10.00\">value</text>\n<polygon fill=\"none\" stroke=\"white\" points=\"68,-146 68,-224 163,-224 163,-146 68,-146\"/>\n</g>\n<!-- //0&#45;&gt;//3 -->\n<g id=\"edge1\" class=\"edge\">\n<title>//0:out.run&#45;&gt;//3:in.thunk</title>\n<path fill=\"none\" stroke=\"#1cade4\" stroke-width=\"1.5\" d=\"M92.5,-237C92.5,-229 92.5,-227 92.5,-219\"/>\n</g>\n<!-- //1 -->\n<g id=\"node2\" class=\"node\">\n<title>//1</title>\n<polygon fill=\"white\" stroke=\"transparent\" points=\"37,0 37,-52 86,-52 86,0 37,0\"/>\n<polygon fill=\"white\" stroke=\"transparent\" points=\"43.5,-29 43.5,-46 80.5,-46 80.5,-29 43.5,-29\"/>\n<polygon fill=\"none\" stroke=\"#1cade4\" points=\"43.5,-29 43.5,-46 80.5,-46 80.5,-29 43.5,-29\"/>\n<text text-anchor=\"start\" x=\"46.5\" y=\"-35\" font-family=\"monospace\" font-size=\"10.00\">value</text>\n<text text-anchor=\"start\" x=\"58.5\" y=\"-11.2\" font-family=\"monospace\" font-weight=\"bold\" font-size=\"11.00\"> </text>\n<polygon fill=\"none\" stroke=\"white\" points=\"37,0 37,-52 86,-52 86,0 37,0\"/>\n</g>\n<!-- //2 -->\n<g id=\"node3\" class=\"node\">\n<title>//2</title>\n<polygon fill=\"#77ceef\" stroke=\"transparent\" points=\"89.5,-292 89.5,-318 171.5,-318 171.5,-292 89.5,-292\"/>\n<text text-anchor=\"start\" x=\"96.5\" y=\"-303.2\" font-family=\"monospace\" font-weight=\"bold\" font-size=\"11.00\">[0.2, 0.2]</text>\n<polygon fill=\"none\" stroke=\"white\" points=\"89.5,-292 89.5,-318 171.5,-318 171.5,-292 89.5,-292\"/>\n</g>\n<!-- //6 -->\n<g id=\"node7\" class=\"node\">\n<title>//6</title>\n<ellipse fill=\"#1cade4\" stroke=\"#1cade4\" cx=\"130.5\" cy=\"-258\" rx=\"3.6\" ry=\"3.6\"/>\n</g>\n<!-- //2&#45;&gt;//6 -->\n<g id=\"edge2\" class=\"edge\">\n<title>//2&#45;&gt;//6</title>\n<path fill=\"none\" stroke=\"#1cade4\" stroke-width=\"1.5\" d=\"M130.5,-291.7C130.5,-281.5 130.5,-267.75 130.5,-261.87\"/>\n</g>\n<!-- //5 -->\n<g id=\"node6\" class=\"node\">\n<title>//5</title>\n<polygon fill=\"#accbf9\" stroke=\"transparent\" points=\"0,-60 0,-138 123,-138 123,-60 0,-60\"/>\n<polygon fill=\"white\" stroke=\"transparent\" points=\"6.5,-115 6.5,-132 31.5,-132 31.5,-115 6.5,-115\"/>\n<polygon fill=\"none\" stroke=\"#1cade4\" points=\"6.5,-115 6.5,-132 31.5,-132 31.5,-115 6.5,-115\"/>\n<text text-anchor=\"start\" x=\"9.5\" y=\"-121\" font-family=\"monospace\" font-size=\"10.00\">lst</text>\n<polygon fill=\"white\" stroke=\"transparent\" points=\"34.5,-115 34.5,-132 71.5,-132 71.5,-115 34.5,-115\"/>\n<polygon fill=\"none\" stroke=\"#1cade4\" points=\"34.5,-115 34.5,-132 71.5,-132 71.5,-115 34.5,-115\"/>\n<text text-anchor=\"start\" x=\"37.5\" y=\"-121\" font-family=\"monospace\" font-size=\"10.00\">first</text>\n<polygon fill=\"white\" stroke=\"transparent\" points=\"74.5,-115 74.5,-132 117.5,-132 117.5,-115 74.5,-115\"/>\n<polygon fill=\"none\" stroke=\"#1cade4\" points=\"74.5,-115 74.5,-132 117.5,-132 117.5,-115 74.5,-115\"/>\n<text text-anchor=\"start\" x=\"77.5\" y=\"-121\" font-family=\"monospace\" font-size=\"10.00\">second</text>\n<text text-anchor=\"start\" x=\"14.5\" y=\"-97.2\" font-family=\"monospace\" font-weight=\"bold\" font-size=\"11.00\">Box: push_pair</text>\n<polygon fill=\"white\" stroke=\"transparent\" points=\"6.5,-66 6.5,-83 117.5,-83 117.5,-66 6.5,-66\"/>\n<polygon fill=\"none\" stroke=\"#1cade4\" points=\"6.5,-66 6.5,-83 117.5,-83 117.5,-66 6.5,-66\"/>\n<text text-anchor=\"start\" x=\"46.5\" y=\"-72\" font-family=\"monospace\" font-size=\"10.00\">value</text>\n<polygon fill=\"none\" stroke=\"white\" points=\"0,-60 0,-138 123,-138 123,-60 0,-60\"/>\n</g>\n<!-- //3&#45;&gt;//5 -->\n<g id=\"edge3\" class=\"edge\">\n<title>//3:out.value&#45;&gt;//5:in.second</title>\n<path fill=\"none\" stroke=\"#1cade4\" stroke-width=\"1.5\" d=\"M73.5,-160C67.26,-160 71.22,-151.3 74.5,-146 80.48,-136.34 96.5,-144.36 96.5,-133\"/>\n</g>\n<!-- //4 -->\n<g id=\"node5\" class=\"node\">\n<title>//4</title>\n<polygon fill=\"#77ceef\" stroke=\"transparent\" points=\"4.5,-172 4.5,-198 32.5,-198 32.5,-172 4.5,-172\"/>\n<text text-anchor=\"start\" x=\"11.5\" y=\"-183.2\" font-family=\"monospace\" font-weight=\"bold\" font-size=\"11.00\">[]</text>\n<polygon fill=\"none\" stroke=\"white\" points=\"4.5,-172 4.5,-198 32.5,-198 32.5,-172 4.5,-172\"/>\n</g>\n<!-- //4&#45;&gt;//5 -->\n<g id=\"edge4\" class=\"edge\">\n<title>//4&#45;&gt;//5:in.lst</title>\n<path fill=\"none\" stroke=\"#1cade4\" stroke-width=\"1.5\" d=\"M18.5,-171.84C18.5,-161.51 18.5,-146.28 18.5,-133\"/>\n</g>\n<!-- //5&#45;&gt;//1 -->\n<g id=\"edge5\" class=\"edge\">\n<title>//5:out.value&#45;&gt;//1:in.value</title>\n<path fill=\"none\" stroke=\"#1cade4\" stroke-width=\"1.5\" d=\"M62.5,-65C62.5,-57 62.5,-55 62.5,-47\"/>\n</g>\n<!-- //6&#45;&gt;//3 -->\n<g id=\"edge6\" class=\"edge\">\n<title>//6&#45;&gt;//3:in.params</title>\n<path fill=\"none\" stroke=\"#1cade4\" stroke-width=\"1.5\" d=\"M131.24,-254.26C132.84,-248.04 136.5,-232.36 136.5,-219\"/>\n</g>\n<!-- //6&#45;&gt;//5 -->\n<g id=\"edge7\" class=\"edge\">\n<title>//6&#45;&gt;//5:in.first</title>\n<path fill=\"none\" stroke=\"#1cade4\" stroke-width=\"1.5\" d=\"M129.77,-254.43C128.16,-249.24 123.74,-237.52 115.5,-232 95.71,-218.74 79,-241.18 62.5,-224 34.32,-194.65 52.5,-173.69 52.5,-133\"/>\n</g>\n</g>\n</svg>\n",
      "text/plain": [
       "<tierkreis.core.tierkreis_graph.TierkreisGraph at 0x7ff65f5e25c0>"
      ]
     },
     "execution_count": 5,
     "metadata": {},
     "output_type": "execute_result"
    }
   ],
   "source": [
    "# Generate an initial value for the optimisation\n",
    "@graph()\n",
    "def initial(run) -> Output:\n",
    "    init_params = Copyable(Const([0.2, 0.2]))\n",
    "    init_score = bi.eval(run, params=init_params)\n",
    "    return Output(push_pair_box(Const([]), init_params, init_score))\n",
    "\n",
    "\n",
    "init_box = Box(initial())\n",
    "initial()\n"
   ]
  },
  {
   "cell_type": "markdown",
   "metadata": {},
   "source": [
    "Our cost function for the minimisation is the expectation value of the parity\n",
    "operator _p_, we can calculate this from the expectation value _z_ of the all _Z_\n",
    "operator using the function $p = (1 - z)/2$. The following graph calculates this\n",
    "function on floating point values."
   ]
  },
  {
   "cell_type": "code",
   "execution_count": 6,
   "metadata": {},
   "outputs": [
    {
     "data": {
      "image/svg+xml": "<?xml version=\"1.0\" encoding=\"UTF-8\" standalone=\"no\"?>\n<!DOCTYPE svg PUBLIC \"-//W3C//DTD SVG 1.1//EN\"\n \"http://www.w3.org/Graphics/SVG/1.1/DTD/svg11.dtd\">\n<!-- Generated by graphviz version 2.43.0 (0)\n -->\n<!-- Title: zexp_to_parity Pages: 1 -->\n<svg width=\"135pt\" height=\"328pt\"\n viewBox=\"0.00 0.00 135.00 328.00\" xmlns=\"http://www.w3.org/2000/svg\" xmlns:xlink=\"http://www.w3.org/1999/xlink\">\n<g id=\"graph0\" class=\"graph\" transform=\"scale(1 1) rotate(0) translate(4 324)\">\n<title>zexp_to_parity</title>\n<polygon fill=\"white\" stroke=\"transparent\" points=\"-4,4 -4,-324 131,-324 131,4 -4,4\"/>\n<polygon fill=\"white\" stroke=\"transparent\" points=\"8,-288 8,-316 119,-316 119,-288 8,-288\"/>\n<text text-anchor=\"start\" x=\"16.5\" y=\"-300.2\" font-family=\"monospace\" font-weight=\"bold\" font-size=\"11.00\">zexp_to_parity</text>\n<polygon fill=\"none\" stroke=\"#1cade4\" stroke-width=\"2\" points=\"9,-289 9,-315 118,-315 118,-289 9,-289\"/>\n<!-- //0 -->\n<g id=\"node1\" class=\"node\">\n<title>//0</title>\n<polygon fill=\"white\" stroke=\"transparent\" points=\"53,-232 53,-284 96,-284 96,-232 53,-232\"/>\n<text text-anchor=\"start\" x=\"71.5\" y=\"-269.2\" font-family=\"monospace\" font-weight=\"bold\" font-size=\"11.00\"> </text>\n<polygon fill=\"white\" stroke=\"transparent\" points=\"59.5,-238 59.5,-255 90.5,-255 90.5,-238 59.5,-238\"/>\n<polygon fill=\"none\" stroke=\"#1cade4\" points=\"59.5,-238 59.5,-255 90.5,-255 90.5,-238 59.5,-238\"/>\n<text text-anchor=\"start\" x=\"62.5\" y=\"-244\" font-family=\"monospace\" font-size=\"10.00\">zexp</text>\n<polygon fill=\"none\" stroke=\"white\" points=\"53,-232 53,-284 96,-284 96,-232 53,-232\"/>\n</g>\n<!-- //3 -->\n<g id=\"node4\" class=\"node\">\n<title>//3</title>\n<polygon fill=\"#accbf9\" stroke=\"transparent\" points=\"25,-146 25,-224 74,-224 74,-146 25,-146\"/>\n<polygon fill=\"white\" stroke=\"transparent\" points=\"31.5,-201 31.5,-218 48.5,-218 48.5,-201 31.5,-201\"/>\n<polygon fill=\"none\" stroke=\"#1cade4\" points=\"31.5,-201 31.5,-218 48.5,-218 48.5,-201 31.5,-201\"/>\n<text text-anchor=\"start\" x=\"36.5\" y=\"-207\" font-family=\"monospace\" font-size=\"10.00\">a</text>\n<polygon fill=\"white\" stroke=\"transparent\" points=\"51.5,-201 51.5,-218 68.5,-218 68.5,-201 51.5,-201\"/>\n<polygon fill=\"none\" stroke=\"#1cade4\" points=\"51.5,-201 51.5,-218 68.5,-218 68.5,-201 51.5,-201\"/>\n<text text-anchor=\"start\" x=\"56.5\" y=\"-207\" font-family=\"monospace\" font-size=\"10.00\">b</text>\n<text text-anchor=\"start\" x=\"36\" y=\"-183.2\" font-family=\"monospace\" font-weight=\"bold\" font-size=\"11.00\">fsub</text>\n<polygon fill=\"white\" stroke=\"transparent\" points=\"31.5,-152 31.5,-169 68.5,-169 68.5,-152 31.5,-152\"/>\n<polygon fill=\"none\" stroke=\"#1cade4\" points=\"31.5,-152 31.5,-169 68.5,-169 68.5,-152 31.5,-152\"/>\n<text text-anchor=\"start\" x=\"34.5\" y=\"-158\" font-family=\"monospace\" font-size=\"10.00\">value</text>\n<polygon fill=\"none\" stroke=\"white\" points=\"25,-146 25,-224 74,-224 74,-146 25,-146\"/>\n</g>\n<!-- //0&#45;&gt;//3 -->\n<g id=\"edge1\" class=\"edge\">\n<title>//0:out.zexp&#45;&gt;//3:in.b</title>\n<path fill=\"none\" stroke=\"#1cade4\" stroke-width=\"1.5\" d=\"M75.5,-237C75.5,-226.59 60.5,-229.41 60.5,-219\"/>\n</g>\n<!-- //1 -->\n<g id=\"node2\" class=\"node\">\n<title>//1</title>\n<polygon fill=\"white\" stroke=\"transparent\" points=\"51,0 51,-52 100,-52 100,0 51,0\"/>\n<polygon fill=\"white\" stroke=\"transparent\" points=\"57.5,-29 57.5,-46 94.5,-46 94.5,-29 57.5,-29\"/>\n<polygon fill=\"none\" stroke=\"#1cade4\" points=\"57.5,-29 57.5,-46 94.5,-46 94.5,-29 57.5,-29\"/>\n<text text-anchor=\"start\" x=\"60.5\" y=\"-35\" font-family=\"monospace\" font-size=\"10.00\">value</text>\n<text text-anchor=\"start\" x=\"72.5\" y=\"-11.2\" font-family=\"monospace\" font-weight=\"bold\" font-size=\"11.00\"> </text>\n<polygon fill=\"none\" stroke=\"white\" points=\"51,0 51,-52 100,-52 100,0 51,0\"/>\n</g>\n<!-- //2 -->\n<g id=\"node3\" class=\"node\">\n<title>//2</title>\n<polygon fill=\"#77ceef\" stroke=\"transparent\" points=\"7,-245 7,-271 42,-271 42,-245 7,-245\"/>\n<text text-anchor=\"start\" x=\"14.5\" y=\"-256.2\" font-family=\"monospace\" font-weight=\"bold\" font-size=\"11.00\">1.0</text>\n<polygon fill=\"none\" stroke=\"white\" points=\"7,-245 7,-271 42,-271 42,-245 7,-245\"/>\n</g>\n<!-- //2&#45;&gt;//3 -->\n<g id=\"edge2\" class=\"edge\">\n<title>//2&#45;&gt;//3:in.a</title>\n<path fill=\"none\" stroke=\"#1cade4\" stroke-width=\"1.5\" d=\"M32,-244.81C35.75,-237.58 39.5,-228.08 39.5,-219\"/>\n</g>\n<!-- //5 -->\n<g id=\"node6\" class=\"node\">\n<title>//5</title>\n<polygon fill=\"#accbf9\" stroke=\"transparent\" points=\"51,-60 51,-138 100,-138 100,-60 51,-60\"/>\n<polygon fill=\"white\" stroke=\"transparent\" points=\"57.5,-115 57.5,-132 74.5,-132 74.5,-115 57.5,-115\"/>\n<polygon fill=\"none\" stroke=\"#1cade4\" points=\"57.5,-115 57.5,-132 74.5,-132 74.5,-115 57.5,-115\"/>\n<text text-anchor=\"start\" x=\"62.5\" y=\"-121\" font-family=\"monospace\" font-size=\"10.00\">a</text>\n<polygon fill=\"white\" stroke=\"transparent\" points=\"77.5,-115 77.5,-132 94.5,-132 94.5,-115 77.5,-115\"/>\n<polygon fill=\"none\" stroke=\"#1cade4\" points=\"77.5,-115 77.5,-132 94.5,-132 94.5,-115 77.5,-115\"/>\n<text text-anchor=\"start\" x=\"82.5\" y=\"-121\" font-family=\"monospace\" font-size=\"10.00\">b</text>\n<text text-anchor=\"start\" x=\"62\" y=\"-97.2\" font-family=\"monospace\" font-weight=\"bold\" font-size=\"11.00\">fdiv</text>\n<polygon fill=\"white\" stroke=\"transparent\" points=\"57.5,-66 57.5,-83 94.5,-83 94.5,-66 57.5,-66\"/>\n<polygon fill=\"none\" stroke=\"#1cade4\" points=\"57.5,-66 57.5,-83 94.5,-83 94.5,-66 57.5,-66\"/>\n<text text-anchor=\"start\" x=\"60.5\" y=\"-72\" font-family=\"monospace\" font-size=\"10.00\">value</text>\n<polygon fill=\"none\" stroke=\"white\" points=\"51,-60 51,-138 100,-138 100,-60 51,-60\"/>\n</g>\n<!-- //3&#45;&gt;//5 -->\n<g id=\"edge3\" class=\"edge\">\n<title>//3:out.value&#45;&gt;//5:in.a</title>\n<path fill=\"none\" stroke=\"#1cade4\" stroke-width=\"1.5\" d=\"M50.5,-151C50.5,-140.59 65.5,-143.41 65.5,-133\"/>\n</g>\n<!-- //4 -->\n<g id=\"node5\" class=\"node\">\n<title>//4</title>\n<polygon fill=\"#77ceef\" stroke=\"transparent\" points=\"85,-172 85,-198 120,-198 120,-172 85,-172\"/>\n<text text-anchor=\"start\" x=\"92.5\" y=\"-183.2\" font-family=\"monospace\" font-weight=\"bold\" font-size=\"11.00\">2.0</text>\n<polygon fill=\"none\" stroke=\"white\" points=\"85,-172 85,-198 120,-198 120,-172 85,-172\"/>\n</g>\n<!-- //4&#45;&gt;//5 -->\n<g id=\"edge4\" class=\"edge\">\n<title>//4&#45;&gt;//5:in.b</title>\n<path fill=\"none\" stroke=\"#1cade4\" stroke-width=\"1.5\" d=\"M96.36,-171.76C91.85,-161.63 86.5,-146.73 86.5,-133\"/>\n</g>\n<!-- //5&#45;&gt;//1 -->\n<g id=\"edge5\" class=\"edge\">\n<title>//5:out.value&#45;&gt;//1:in.value</title>\n<path fill=\"none\" stroke=\"#1cade4\" stroke-width=\"1.5\" d=\"M76.5,-65C76.5,-57 76.5,-55 76.5,-47\"/>\n</g>\n</g>\n</svg>\n",
      "text/plain": [
       "<tierkreis.core.tierkreis_graph.TierkreisGraph at 0x7ff65f5e2170>"
      ]
     },
     "execution_count": 6,
     "metadata": {},
     "output_type": "execute_result"
    }
   ],
   "source": [
    "@graph()\n",
    "def zexp_to_parity(zexp) -> Output:\n",
    "    y = bi.fsub(Const(1.0), zexp)\n",
    "    return Output(bi.fdiv(y, Const(2.0)))\n",
    "\n",
    "\n",
    "zexp_to_parity()\n"
   ]
  },
  {
   "cell_type": "markdown",
   "metadata": {},
   "source": [
    "We are now ready to define our main graph. First we have to define a graph for\n",
    "running the circuit and calculating the cost function, this is defined as the\n",
    "_closure_ `run_circuit`.\n",
    "This is used in the main optimisation loop, the body of which is defined in the\n",
    "`loop_def` function; at each iteration the worker function\n",
    "`new_params` produces updated parameters, then convergence is checked using\n",
    "`converged`, at which point we either conditionally `Break` with the result or `Continue`."
   ]
  },
  {
   "cell_type": "code",
   "execution_count": 7,
   "metadata": {},
   "outputs": [
    {
     "data": {
      "image/svg+xml": "<?xml version=\"1.0\" encoding=\"UTF-8\" standalone=\"no\"?>\n<!DOCTYPE svg PUBLIC \"-//W3C//DTD SVG 1.1//EN\"\n \"http://www.w3.org/Graphics/SVG/1.1/DTD/svg11.dtd\">\n<!-- Generated by graphviz version 2.43.0 (0)\n -->\n<!-- Title: main Pages: 1 -->\n<svg width=\"347pt\" height=\"778pt\"\n viewBox=\"0.00 0.00 346.50 778.00\" xmlns=\"http://www.w3.org/2000/svg\" xmlns:xlink=\"http://www.w3.org/1999/xlink\">\n<g id=\"graph0\" class=\"graph\" transform=\"scale(1 1) rotate(0) translate(4 774)\">\n<title>main</title>\n<polygon fill=\"white\" stroke=\"transparent\" points=\"-4,4 -4,-774 342.5,-774 342.5,4 -4,4\"/>\n<polygon fill=\"white\" stroke=\"transparent\" points=\"147.25,-738 147.25,-766 191.25,-766 191.25,-738 147.25,-738\"/>\n<text text-anchor=\"start\" x=\"155.25\" y=\"-750.2\" font-family=\"monospace\" font-weight=\"bold\" font-size=\"11.00\">main</text>\n<polygon fill=\"none\" stroke=\"#1cade4\" stroke-width=\"2\" points=\"148.25,-739 148.25,-765 190.25,-765 190.25,-739 148.25,-739\"/>\n<!-- //0 -->\n<g id=\"node1\" class=\"node\">\n<title>//0</title>\n<polygon fill=\"white\" stroke=\"transparent\" points=\"56,-695 56,-721 77,-721 77,-695 56,-695\"/>\n<text text-anchor=\"start\" x=\"63.5\" y=\"-706.2\" font-family=\"monospace\" font-weight=\"bold\" font-size=\"11.00\"> </text>\n<polygon fill=\"none\" stroke=\"white\" points=\"56,-695 56,-721 77,-721 77,-695 56,-695\"/>\n</g>\n<!-- //1 -->\n<g id=\"node2\" class=\"node\">\n<title>//1</title>\n<polygon fill=\"white\" stroke=\"transparent\" points=\"99,0 99,-52 148,-52 148,0 99,0\"/>\n<polygon fill=\"white\" stroke=\"transparent\" points=\"105.5,-29 105.5,-46 142.5,-46 142.5,-29 105.5,-29\"/>\n<polygon fill=\"none\" stroke=\"#1cade4\" points=\"105.5,-29 105.5,-46 142.5,-46 142.5,-29 105.5,-29\"/>\n<text text-anchor=\"start\" x=\"108.5\" y=\"-35\" font-family=\"monospace\" font-size=\"10.00\">value</text>\n<text text-anchor=\"start\" x=\"120.5\" y=\"-11.2\" font-family=\"monospace\" font-weight=\"bold\" font-size=\"11.00\"> </text>\n<polygon fill=\"none\" stroke=\"white\" points=\"99,0 99,-52 148,-52 148,0 99,0\"/>\n</g>\n<!-- //2 -->\n<g id=\"node3\" class=\"node\">\n<title>//2</title>\n<polygon fill=\"#accbf9\" stroke=\"transparent\" points=\"188,-682 188,-734 317,-734 317,-682 188,-682\"/>\n<text text-anchor=\"start\" x=\"195.5\" y=\"-719.2\" font-family=\"monospace\" font-weight=\"bold\" font-size=\"11.00\">Box: load_circuit</text>\n<polygon fill=\"white\" stroke=\"transparent\" points=\"194.5,-688 194.5,-705 311.5,-705 311.5,-688 194.5,-688\"/>\n<polygon fill=\"none\" stroke=\"#1cade4\" points=\"194.5,-688 194.5,-705 311.5,-705 311.5,-688 194.5,-688\"/>\n<text text-anchor=\"start\" x=\"237.5\" y=\"-694\" font-family=\"monospace\" font-size=\"10.00\">value</text>\n<polygon fill=\"none\" stroke=\"white\" points=\"188,-682 188,-734 317,-734 317,-682 188,-682\"/>\n</g>\n<!-- //4 -->\n<g id=\"node5\" class=\"node\">\n<title>//4</title>\n<polygon fill=\"#accbf9\" stroke=\"transparent\" points=\"151,-548 151,-626 228,-626 228,-548 151,-548\"/>\n<polygon fill=\"white\" stroke=\"transparent\" points=\"157.5,-603 157.5,-620 194.5,-620 194.5,-603 157.5,-603\"/>\n<polygon fill=\"none\" stroke=\"#1cade4\" points=\"157.5,-603 157.5,-620 194.5,-620 194.5,-603 157.5,-603\"/>\n<text text-anchor=\"start\" x=\"160.5\" y=\"-609\" font-family=\"monospace\" font-size=\"10.00\">thunk</text>\n<polygon fill=\"white\" stroke=\"transparent\" points=\"197.5,-603 197.5,-620 222.5,-620 222.5,-603 197.5,-603\"/>\n<polygon fill=\"none\" stroke=\"#1cade4\" points=\"197.5,-603 197.5,-620 222.5,-620 222.5,-603 197.5,-603\"/>\n<text text-anchor=\"start\" x=\"200.5\" y=\"-609\" font-family=\"monospace\" font-size=\"10.00\">_c0</text>\n<text text-anchor=\"start\" x=\"166\" y=\"-585.2\" font-family=\"monospace\" font-weight=\"bold\" font-size=\"11.00\">partial</text>\n<polygon fill=\"white\" stroke=\"transparent\" points=\"157.5,-554 157.5,-571 222.5,-571 222.5,-554 157.5,-554\"/>\n<polygon fill=\"none\" stroke=\"#1cade4\" points=\"157.5,-554 157.5,-571 222.5,-571 222.5,-554 157.5,-554\"/>\n<text text-anchor=\"start\" x=\"174.5\" y=\"-560\" font-family=\"monospace\" font-size=\"10.00\">value</text>\n<polygon fill=\"none\" stroke=\"white\" points=\"151,-548 151,-626 228,-626 228,-548 151,-548\"/>\n</g>\n<!-- //2&#45;&gt;//4 -->\n<g id=\"edge1\" class=\"edge\">\n<title>//2:out.value&#45;&gt;//4:in._c0</title>\n<path fill=\"none\" stroke=\"#1cade4\" stroke-width=\"1.5\" d=\"M253.5,-687C253.5,-651.1 259.4,-612 223.5,-612\"/>\n<text text-anchor=\"middle\" x=\"272\" y=\"-651.8\" font-family=\"monospace\" font-size=\"9.00\">Circuit</text>\n</g>\n<!-- //3 -->\n<g id=\"node4\" class=\"node\">\n<title>//3</title>\n<polygon fill=\"#1cade4\" stroke=\"transparent\" points=\"88,-690 88,-726 177,-726 177,-690 88,-690\"/>\n<text text-anchor=\"start\" x=\"116\" y=\"-711.2\" font-family=\"monospace\" font-weight=\"bold\" font-size=\"11.00\">thunk</text>\n<text text-anchor=\"start\" x=\"95.5\" y=\"-700.2\" font-family=\"monospace\" font-weight=\"bold\" font-style=\"italic\" font-size=\"11.00\">run_circuit</text>\n<polygon fill=\"none\" stroke=\"white\" points=\"88,-690 88,-726 177,-726 177,-690 88,-690\"/>\n</g>\n<!-- //3&#45;&gt;//4 -->\n<g id=\"edge2\" class=\"edge\">\n<title>//3&#45;&gt;//4:in.thunk</title>\n<path fill=\"none\" stroke=\"#1cade4\" stroke-width=\"1.5\" d=\"M129.8,-689.58C126.53,-662.15 124.86,-612 156.5,-612\"/>\n<text text-anchor=\"middle\" x=\"176.5\" y=\"-666.8\" font-family=\"monospace\" font-size=\"9.00\">(_c0: Circuit,</text>\n<text text-anchor=\"middle\" x=\"176.5\" y=\"-656.8\" font-family=\"monospace\" font-size=\"9.00\">params:</text>\n<text text-anchor=\"middle\" x=\"176.5\" y=\"-646.8\" font-family=\"monospace\" font-size=\"9.00\">Vector[Float]) &#45;&gt;</text>\n<text text-anchor=\"middle\" x=\"176.5\" y=\"-636.8\" font-family=\"monospace\" font-size=\"9.00\">(value: Float)</text>\n</g>\n<!-- //8 -->\n<g id=\"node9\" class=\"node\">\n<title>//8</title>\n<ellipse fill=\"#1cade4\" stroke=\"#1cade4\" cx=\"190.5\" cy=\"-484\" rx=\"3.6\" ry=\"3.6\"/>\n</g>\n<!-- //4&#45;&gt;//8 -->\n<g id=\"edge3\" class=\"edge\">\n<title>//4:out.value&#45;&gt;//8</title>\n<path fill=\"none\" stroke=\"#1cade4\" stroke-width=\"1.5\" d=\"M190.5,-553C190.5,-527.74 190.5,-497.19 190.5,-487.85\"/>\n<text text-anchor=\"middle\" x=\"235.5\" y=\"-532.8\" font-family=\"monospace\" font-size=\"9.00\">(params:</text>\n<text text-anchor=\"middle\" x=\"235.5\" y=\"-522.8\" font-family=\"monospace\" font-size=\"9.00\">Vector[Float]) &#45;&gt;</text>\n<text text-anchor=\"middle\" x=\"235.5\" y=\"-512.8\" font-family=\"monospace\" font-size=\"9.00\">(value: Float)</text>\n</g>\n<!-- //5 -->\n<g id=\"node6\" class=\"node\">\n<title>//5</title>\n<polygon fill=\"#accbf9\" stroke=\"transparent\" points=\"151.5,-262 151.5,-340 247.5,-340 247.5,-262 151.5,-262\"/>\n<polygon fill=\"white\" stroke=\"transparent\" points=\"157.5,-317 157.5,-334 241.5,-334 241.5,-317 157.5,-317\"/>\n<polygon fill=\"none\" stroke=\"#1cade4\" points=\"157.5,-317 157.5,-334 241.5,-334 241.5,-317 157.5,-317\"/>\n<text text-anchor=\"start\" x=\"190\" y=\"-323\" font-family=\"monospace\" font-size=\"10.00\">run</text>\n<text text-anchor=\"start\" x=\"158.5\" y=\"-299.2\" font-family=\"monospace\" font-weight=\"bold\" font-size=\"11.00\">Box: initial</text>\n<polygon fill=\"white\" stroke=\"transparent\" points=\"157.5,-268 157.5,-285 241.5,-285 241.5,-268 157.5,-268\"/>\n<polygon fill=\"none\" stroke=\"#1cade4\" points=\"157.5,-268 157.5,-285 241.5,-285 241.5,-268 157.5,-268\"/>\n<text text-anchor=\"start\" x=\"184\" y=\"-274\" font-family=\"monospace\" font-size=\"10.00\">value</text>\n<polygon fill=\"none\" stroke=\"white\" points=\"151.5,-262 151.5,-340 247.5,-340 247.5,-262 151.5,-262\"/>\n</g>\n<!-- //9 -->\n<g id=\"node10\" class=\"node\">\n<title>//9</title>\n<polygon fill=\"#accbf9\" stroke=\"transparent\" points=\"82,-88 82,-166 165,-166 165,-88 82,-88\"/>\n<polygon fill=\"white\" stroke=\"transparent\" points=\"88.5,-143 88.5,-160 119.5,-160 119.5,-143 88.5,-143\"/>\n<polygon fill=\"none\" stroke=\"#1cade4\" points=\"88.5,-143 88.5,-160 119.5,-160 119.5,-143 88.5,-143\"/>\n<text text-anchor=\"start\" x=\"91.5\" y=\"-149\" font-family=\"monospace\" font-size=\"10.00\">body</text>\n<polygon fill=\"white\" stroke=\"transparent\" points=\"122.5,-143 122.5,-160 159.5,-160 159.5,-143 122.5,-143\"/>\n<polygon fill=\"none\" stroke=\"#1cade4\" points=\"122.5,-143 122.5,-160 159.5,-160 159.5,-143 122.5,-143\"/>\n<text text-anchor=\"start\" x=\"125.5\" y=\"-149\" font-family=\"monospace\" font-size=\"10.00\">value</text>\n<text text-anchor=\"start\" x=\"110\" y=\"-125.2\" font-family=\"monospace\" font-weight=\"bold\" font-size=\"11.00\">loop</text>\n<polygon fill=\"white\" stroke=\"transparent\" points=\"88.5,-94 88.5,-111 159.5,-111 159.5,-94 88.5,-94\"/>\n<polygon fill=\"none\" stroke=\"#1cade4\" points=\"88.5,-94 88.5,-111 159.5,-111 159.5,-94 88.5,-94\"/>\n<text text-anchor=\"start\" x=\"108.5\" y=\"-100\" font-family=\"monospace\" font-size=\"10.00\">value</text>\n<polygon fill=\"none\" stroke=\"white\" points=\"82,-88 82,-166 165,-166 165,-88 82,-88\"/>\n</g>\n<!-- //5&#45;&gt;//9 -->\n<g id=\"edge4\" class=\"edge\">\n<title>//5:out.value&#45;&gt;//9:in.value</title>\n<path fill=\"none\" stroke=\"#1cade4\" stroke-width=\"1.5\" d=\"M199.5,-267C199.5,-213.03 214.47,-152 160.5,-152\"/>\n<text text-anchor=\"middle\" x=\"270\" y=\"-216.8\" font-family=\"monospace\" font-size=\"9.00\">Vector[Pair[Vector[Float],</text>\n<text text-anchor=\"middle\" x=\"270\" y=\"-206.8\" font-family=\"monospace\" font-size=\"9.00\">Float]]</text>\n</g>\n<!-- //6 -->\n<g id=\"node7\" class=\"node\">\n<title>//6</title>\n<polygon fill=\"#1cade4\" stroke=\"transparent\" points=\"0,-466 0,-502 69,-502 69,-466 0,-466\"/>\n<text text-anchor=\"start\" x=\"18\" y=\"-487.2\" font-family=\"monospace\" font-weight=\"bold\" font-size=\"11.00\">thunk</text>\n<text text-anchor=\"start\" x=\"7.5\" y=\"-476.2\" font-family=\"monospace\" font-weight=\"bold\" font-style=\"italic\" font-size=\"11.00\">loop_def</text>\n<polygon fill=\"none\" stroke=\"white\" points=\"0,-466 0,-502 69,-502 69,-466 0,-466\"/>\n</g>\n<!-- //7 -->\n<g id=\"node8\" class=\"node\">\n<title>//7</title>\n<polygon fill=\"#accbf9\" stroke=\"transparent\" points=\"7,-262 7,-340 84,-340 84,-262 7,-262\"/>\n<polygon fill=\"white\" stroke=\"transparent\" points=\"13.5,-317 13.5,-334 38.5,-334 38.5,-317 13.5,-317\"/>\n<polygon fill=\"none\" stroke=\"#1cade4\" points=\"13.5,-317 13.5,-334 38.5,-334 38.5,-317 13.5,-317\"/>\n<text text-anchor=\"start\" x=\"16.5\" y=\"-323\" font-family=\"monospace\" font-size=\"10.00\">_c0</text>\n<polygon fill=\"white\" stroke=\"transparent\" points=\"41.5,-317 41.5,-334 78.5,-334 78.5,-317 41.5,-317\"/>\n<polygon fill=\"none\" stroke=\"#1cade4\" points=\"41.5,-317 41.5,-334 78.5,-334 78.5,-317 41.5,-317\"/>\n<text text-anchor=\"start\" x=\"44.5\" y=\"-323\" font-family=\"monospace\" font-size=\"10.00\">thunk</text>\n<text text-anchor=\"start\" x=\"22\" y=\"-299.2\" font-family=\"monospace\" font-weight=\"bold\" font-size=\"11.00\">partial</text>\n<polygon fill=\"white\" stroke=\"transparent\" points=\"13.5,-268 13.5,-285 78.5,-285 78.5,-268 13.5,-268\"/>\n<polygon fill=\"none\" stroke=\"#1cade4\" points=\"13.5,-268 13.5,-285 78.5,-285 78.5,-268 13.5,-268\"/>\n<text text-anchor=\"start\" x=\"30.5\" y=\"-274\" font-family=\"monospace\" font-size=\"10.00\">value</text>\n<polygon fill=\"none\" stroke=\"white\" points=\"7,-262 7,-340 84,-340 84,-262 7,-262\"/>\n</g>\n<!-- //6&#45;&gt;//7 -->\n<g id=\"edge5\" class=\"edge\">\n<title>//6&#45;&gt;//7:in.thunk</title>\n<path fill=\"none\" stroke=\"#1cade4\" stroke-width=\"1.5\" d=\"M29.82,-465.75C23.49,-438.56 15.35,-385.01 37.5,-348 43.53,-337.92 60.5,-346.74 60.5,-335\"/>\n<text text-anchor=\"middle\" x=\"106\" y=\"-450.8\" font-family=\"monospace\" font-size=\"9.00\">(_c0: (params:</text>\n<text text-anchor=\"middle\" x=\"106\" y=\"-440.8\" font-family=\"monospace\" font-size=\"9.00\">Vector[Float]) &#45;&gt;</text>\n<text text-anchor=\"middle\" x=\"106\" y=\"-430.8\" font-family=\"monospace\" font-size=\"9.00\">(value: Float),</text>\n<text text-anchor=\"middle\" x=\"106\" y=\"-420.8\" font-family=\"monospace\" font-size=\"9.00\">value:</text>\n<text text-anchor=\"middle\" x=\"106\" y=\"-410.8\" font-family=\"monospace\" font-size=\"9.00\">Vector[Pair[Vector[Float],</text>\n<text text-anchor=\"middle\" x=\"106\" y=\"-400.8\" font-family=\"monospace\" font-size=\"9.00\">Float]]) &#45;&gt; (value:</text>\n<text text-anchor=\"middle\" x=\"106\" y=\"-390.8\" font-family=\"monospace\" font-size=\"9.00\">Variant[break:</text>\n<text text-anchor=\"middle\" x=\"106\" y=\"-380.8\" font-family=\"monospace\" font-size=\"9.00\">Vector[Pair[Vector[Float],</text>\n<text text-anchor=\"middle\" x=\"106\" y=\"-370.8\" font-family=\"monospace\" font-size=\"9.00\">Float]], continue:</text>\n<text text-anchor=\"middle\" x=\"106\" y=\"-360.8\" font-family=\"monospace\" font-size=\"9.00\">Vector[Pair[Vector[Float],</text>\n<text text-anchor=\"middle\" x=\"106\" y=\"-350.8\" font-family=\"monospace\" font-size=\"9.00\">Float]]])</text>\n</g>\n<!-- //7&#45;&gt;//9 -->\n<g id=\"edge6\" class=\"edge\">\n<title>//7:out.value&#45;&gt;//9:in.body</title>\n<path fill=\"none\" stroke=\"#1cade4\" stroke-width=\"1.5\" d=\"M46.5,-267C46.5,-212.74 33.24,-152 87.5,-152\"/>\n<text text-anchor=\"middle\" x=\"119\" y=\"-246.8\" font-family=\"monospace\" font-size=\"9.00\">(value:</text>\n<text text-anchor=\"middle\" x=\"119\" y=\"-236.8\" font-family=\"monospace\" font-size=\"9.00\">Vector[Pair[Vector[Float],</text>\n<text text-anchor=\"middle\" x=\"119\" y=\"-226.8\" font-family=\"monospace\" font-size=\"9.00\">Float]]) &#45;&gt; (value:</text>\n<text text-anchor=\"middle\" x=\"119\" y=\"-216.8\" font-family=\"monospace\" font-size=\"9.00\">Variant[break:</text>\n<text text-anchor=\"middle\" x=\"119\" y=\"-206.8\" font-family=\"monospace\" font-size=\"9.00\">Vector[Pair[Vector[Float],</text>\n<text text-anchor=\"middle\" x=\"119\" y=\"-196.8\" font-family=\"monospace\" font-size=\"9.00\">Float]], continue:</text>\n<text text-anchor=\"middle\" x=\"119\" y=\"-186.8\" font-family=\"monospace\" font-size=\"9.00\">Vector[Pair[Vector[Float],</text>\n<text text-anchor=\"middle\" x=\"119\" y=\"-176.8\" font-family=\"monospace\" font-size=\"9.00\">Float]]])</text>\n</g>\n<!-- //8&#45;&gt;//5 -->\n<g id=\"edge8\" class=\"edge\">\n<title>//8&#45;&gt;//5:in.run</title>\n<path fill=\"none\" stroke=\"#1cade4\" stroke-width=\"1.5\" d=\"M190.8,-480.18C192.36,-465.23 199.5,-393.69 199.5,-335\"/>\n</g>\n<!-- //8&#45;&gt;//7 -->\n<g id=\"edge7\" class=\"edge\">\n<title>//8&#45;&gt;//7:in._c0</title>\n<path fill=\"none\" stroke=\"#1cade4\" stroke-width=\"1.5\" d=\"M190.58,-480.16C191,-462.43 192.32,-366.96 172.5,-348 148.8,-325.33 25.5,-367.79 25.5,-335\"/>\n</g>\n<!-- //9&#45;&gt;//1 -->\n<g id=\"edge9\" class=\"edge\">\n<title>//9:out.value&#45;&gt;//1:in.value</title>\n<path fill=\"none\" stroke=\"#1cade4\" stroke-width=\"1.5\" d=\"M124.5,-93C124.5,-72.56 124.5,-67.44 124.5,-47\"/>\n<text text-anchor=\"middle\" x=\"193\" y=\"-72.8\" font-family=\"monospace\" font-size=\"9.00\">Vector[Pair[Vector[Float],</text>\n<text text-anchor=\"middle\" x=\"193\" y=\"-62.8\" font-family=\"monospace\" font-size=\"9.00\">Float]]</text>\n</g>\n</g>\n</svg>\n",
      "text/plain": [
       "<tierkreis.core.tierkreis_graph.TierkreisGraph at 0x7ff65f55b190>"
      ]
     },
     "execution_count": 7,
     "metadata": {},
     "output_type": "execute_result"
    }
   ],
   "source": [
    "# if you don't have the typecheck feature installed, remove the type_check_sig parameter\n",
    "@graph(type_check_sig=sig)\n",
    "def main() -> Output:\n",
    "    circ = Box(load_circuit())()\n",
    "\n",
    "    @closure()\n",
    "    def run_circuit(params: Input) -> Output:\n",
    "        syms = Const([\"a\", \"b\"])\n",
    "        # substitute parameters in circuit with values a, b\n",
    "        subs = pt.substitute_symbols(circ, syms, params)\n",
    "        res = pt.execute(subs, Const(1000), Const(\"AerBackend\"))\n",
    "        o = Output(Box(zexp_to_parity())(pt.z_expectation(res)))\n",
    "        return o\n",
    "\n",
    "    run_circuit.copyable()\n",
    "\n",
    "    @loop()\n",
    "    def loop_def(initial: Input) -> Output:\n",
    "        recs = Copyable(initial)\n",
    "        new_cand = Copyable(sc.new_params(recs))\n",
    "        score = run_circuit(new_cand)\n",
    "        recs = Copyable(push_pair_box(recs, new_cand, score))\n",
    "\n",
    "        with IfElse(sc.converged(recs)) as lbody:\n",
    "            with If():\n",
    "                Break(recs)\n",
    "            with Else():\n",
    "                Continue(recs)\n",
    "        o = Output(lbody.nref)\n",
    "        return o\n",
    "\n",
    "    init_val = init_box(run_circuit.graph_src)\n",
    "    # run loop with initial value\n",
    "    return Output(loop_def(init_val))\n",
    "\n",
    "\n",
    "tg = main()\n",
    "tg\n"
   ]
  },
  {
   "cell_type": "markdown",
   "metadata": {},
   "source": [
    "We are now ready to run the graph and check the results!"
   ]
  },
  {
   "cell_type": "code",
   "execution_count": 8,
   "metadata": {},
   "outputs": [
    {
     "data": {
      "text/plain": [
       "([0.5104587283740356, 0.5104587283740356], 0.0010000000000000009)"
      ]
     },
     "execution_count": 8,
     "metadata": {},
     "output_type": "execute_result"
    }
   ],
   "source": [
    "res = await cl.run_graph(tg)\n",
    "\n",
    "# print final parameters and score\n",
    "res[\"value\"].try_autopython()[-1]\n"
   ]
  },
  {
   "cell_type": "markdown",
   "metadata": {},
   "source": [
    "To view the graph in more detail we can use the `tierkreis_to_graphviz` with\n",
    "`unbox_level` > 0, and `unbox_graph_names` to say which subgraphs we want displayed:"
   ]
  },
  {
   "cell_type": "code",
   "execution_count": 9,
   "metadata": {},
   "outputs": [
    {
     "data": {
      "image/svg+xml": "<?xml version=\"1.0\" encoding=\"UTF-8\" standalone=\"no\"?>\n<!DOCTYPE svg PUBLIC \"-//W3C//DTD SVG 1.1//EN\"\n \"http://www.w3.org/Graphics/SVG/1.1/DTD/svg11.dtd\">\n<!-- Generated by graphviz version 2.43.0 (0)\n -->\n<!-- Title: main Pages: 1 -->\n<svg width=\"702pt\" height=\"856pt\"\n viewBox=\"0.00 0.00 702.24 856.00\" xmlns=\"http://www.w3.org/2000/svg\" xmlns:xlink=\"http://www.w3.org/1999/xlink\">\n<g id=\"graph0\" class=\"graph\" transform=\"scale(1 1) rotate(0) translate(4 852)\">\n<title>main</title>\n<polygon fill=\"white\" stroke=\"transparent\" points=\"-4,4 -4,-852 698.24,-852 698.24,4 -4,4\"/>\n<polygon fill=\"white\" stroke=\"transparent\" points=\"325.12,-816 325.12,-844 369.12,-844 369.12,-816 325.12,-816\"/>\n<text text-anchor=\"start\" x=\"333.12\" y=\"-828.2\" font-family=\"monospace\" font-weight=\"bold\" font-size=\"11.00\">main</text>\n<polygon fill=\"none\" stroke=\"#1cade4\" stroke-width=\"2\" points=\"326.12,-817 326.12,-843 368.12,-843 368.12,-817 326.12,-817\"/>\n<g id=\"clust1\" class=\"cluster\">\n<title>cluster//3</title>\n<polygon fill=\"white\" stroke=\"#1cade4\" stroke-dasharray=\"5,2\" points=\"316.24,-8 316.24,-804 686.24,-804 686.24,-8 316.24,-8\"/>\n</g>\n<!-- //0 -->\n<g id=\"node1\" class=\"node\">\n<title>//0</title>\n<polygon fill=\"white\" stroke=\"transparent\" points=\"43.74,-755 43.74,-781 64.74,-781 64.74,-755 43.74,-755\"/>\n<text text-anchor=\"start\" x=\"51.24\" y=\"-766.2\" font-family=\"monospace\" font-weight=\"bold\" font-size=\"11.00\"> </text>\n<polygon fill=\"none\" stroke=\"white\" points=\"43.74,-755 43.74,-781 64.74,-781 64.74,-755 43.74,-755\"/>\n</g>\n<!-- //1 -->\n<g id=\"node2\" class=\"node\">\n<title>//1</title>\n<polygon fill=\"white\" stroke=\"transparent\" points=\"68.74,-18 68.74,-70 117.74,-70 117.74,-18 68.74,-18\"/>\n<polygon fill=\"white\" stroke=\"transparent\" points=\"75.24,-47 75.24,-64 112.24,-64 112.24,-47 75.24,-47\"/>\n<polygon fill=\"none\" stroke=\"#1cade4\" points=\"75.24,-47 75.24,-64 112.24,-64 112.24,-47 75.24,-47\"/>\n<text text-anchor=\"start\" x=\"78.24\" y=\"-53\" font-family=\"monospace\" font-size=\"10.00\">value</text>\n<text text-anchor=\"start\" x=\"90.24\" y=\"-29.2\" font-family=\"monospace\" font-weight=\"bold\" font-size=\"11.00\"> </text>\n<polygon fill=\"none\" stroke=\"white\" points=\"68.74,-18 68.74,-70 117.74,-70 117.74,-18 68.74,-18\"/>\n</g>\n<!-- //2 -->\n<g id=\"node3\" class=\"node\">\n<title>//2</title>\n<polygon fill=\"#accbf9\" stroke=\"transparent\" points=\"75.74,-742 75.74,-794 204.74,-794 204.74,-742 75.74,-742\"/>\n<text text-anchor=\"start\" x=\"83.24\" y=\"-779.2\" font-family=\"monospace\" font-weight=\"bold\" font-size=\"11.00\">Box: load_circuit</text>\n<polygon fill=\"white\" stroke=\"transparent\" points=\"82.24,-748 82.24,-765 199.24,-765 199.24,-748 82.24,-748\"/>\n<polygon fill=\"none\" stroke=\"#1cade4\" points=\"82.24,-748 82.24,-765 199.24,-765 199.24,-748 82.24,-748\"/>\n<text text-anchor=\"start\" x=\"125.24\" y=\"-754\" font-family=\"monospace\" font-size=\"10.00\">value</text>\n<polygon fill=\"none\" stroke=\"white\" points=\"75.74,-742 75.74,-794 204.74,-794 204.74,-742 75.74,-742\"/>\n</g>\n<!-- //4 -->\n<g id=\"node14\" class=\"node\">\n<title>//4</title>\n<polygon fill=\"#accbf9\" stroke=\"transparent\" points=\"81.74,-608 81.74,-686 158.74,-686 158.74,-608 81.74,-608\"/>\n<polygon fill=\"white\" stroke=\"transparent\" points=\"88.24,-663 88.24,-680 125.24,-680 125.24,-663 88.24,-663\"/>\n<polygon fill=\"none\" stroke=\"#1cade4\" points=\"88.24,-663 88.24,-680 125.24,-680 125.24,-663 88.24,-663\"/>\n<text text-anchor=\"start\" x=\"91.24\" y=\"-669\" font-family=\"monospace\" font-size=\"10.00\">thunk</text>\n<polygon fill=\"white\" stroke=\"transparent\" points=\"128.24,-663 128.24,-680 153.24,-680 153.24,-663 128.24,-663\"/>\n<polygon fill=\"none\" stroke=\"#1cade4\" points=\"128.24,-663 128.24,-680 153.24,-680 153.24,-663 128.24,-663\"/>\n<text text-anchor=\"start\" x=\"131.24\" y=\"-669\" font-family=\"monospace\" font-size=\"10.00\">_c0</text>\n<text text-anchor=\"start\" x=\"96.74\" y=\"-645.2\" font-family=\"monospace\" font-weight=\"bold\" font-size=\"11.00\">partial</text>\n<polygon fill=\"white\" stroke=\"transparent\" points=\"88.24,-614 88.24,-631 153.24,-631 153.24,-614 88.24,-614\"/>\n<polygon fill=\"none\" stroke=\"#1cade4\" points=\"88.24,-614 88.24,-631 153.24,-631 153.24,-614 88.24,-614\"/>\n<text text-anchor=\"start\" x=\"105.24\" y=\"-620\" font-family=\"monospace\" font-size=\"10.00\">value</text>\n<polygon fill=\"none\" stroke=\"white\" points=\"81.74,-608 81.74,-686 158.74,-686 158.74,-608 81.74,-608\"/>\n</g>\n<!-- //2&#45;&gt;//4 -->\n<g id=\"edge10\" class=\"edge\">\n<title>//2:out.value&#45;&gt;//4:in._c0</title>\n<path fill=\"none\" stroke=\"#1cade4\" stroke-width=\"1.5\" d=\"M141.24,-747C141.24,-717.67 141.24,-710.33 141.24,-681\"/>\n<text text-anchor=\"middle\" x=\"159.74\" y=\"-711.8\" font-family=\"monospace\" font-size=\"9.00\">Circuit</text>\n</g>\n<!-- //3//0 -->\n<g id=\"node4\" class=\"node\">\n<title>//3//0</title>\n<polygon fill=\"white\" stroke=\"transparent\" points=\"519.74,-742 519.74,-794 602.74,-794 602.74,-742 519.74,-742\"/>\n<text text-anchor=\"start\" x=\"558.24\" y=\"-779.2\" font-family=\"monospace\" font-weight=\"bold\" font-size=\"11.00\"> </text>\n<polygon fill=\"white\" stroke=\"transparent\" points=\"526.24,-748 526.24,-765 551.24,-765 551.24,-748 526.24,-748\"/>\n<polygon fill=\"none\" stroke=\"#1cade4\" points=\"526.24,-748 526.24,-765 551.24,-765 551.24,-748 526.24,-748\"/>\n<text text-anchor=\"start\" x=\"529.24\" y=\"-754\" font-family=\"monospace\" font-size=\"10.00\">_c0</text>\n<polygon fill=\"white\" stroke=\"transparent\" points=\"554.24,-748 554.24,-765 597.24,-765 597.24,-748 554.24,-748\"/>\n<polygon fill=\"none\" stroke=\"#1cade4\" points=\"554.24,-748 554.24,-765 597.24,-765 597.24,-748 554.24,-748\"/>\n<text text-anchor=\"start\" x=\"557.24\" y=\"-754\" font-family=\"monospace\" font-size=\"10.00\">params</text>\n<polygon fill=\"none\" stroke=\"white\" points=\"519.74,-742 519.74,-794 602.74,-794 602.74,-742 519.74,-742\"/>\n</g>\n<!-- //3//3 -->\n<g id=\"node7\" class=\"node\">\n<title>//3//3</title>\n<polygon fill=\"#accbf9\" stroke=\"transparent\" points=\"326.24,-608 326.24,-686 516.24,-686 516.24,-608 326.24,-608\"/>\n<polygon fill=\"white\" stroke=\"transparent\" points=\"332.24,-663 332.24,-680 390.24,-680 390.24,-663 332.24,-663\"/>\n<polygon fill=\"none\" stroke=\"#1cade4\" points=\"332.24,-663 332.24,-680 390.24,-680 390.24,-663 332.24,-663\"/>\n<text text-anchor=\"start\" x=\"345.74\" y=\"-669\" font-family=\"monospace\" font-size=\"10.00\">symbs</text>\n<polygon fill=\"white\" stroke=\"transparent\" points=\"393.24,-663 393.24,-680 444.24,-680 444.24,-663 393.24,-663\"/>\n<polygon fill=\"none\" stroke=\"#1cade4\" points=\"393.24,-663 393.24,-680 444.24,-680 444.24,-663 393.24,-663\"/>\n<text text-anchor=\"start\" x=\"406.24\" y=\"-669\" font-family=\"monospace\" font-size=\"10.00\">circ</text>\n<polygon fill=\"white\" stroke=\"transparent\" points=\"447.24,-663 447.24,-680 510.24,-680 510.24,-663 447.24,-663\"/>\n<polygon fill=\"none\" stroke=\"#1cade4\" points=\"447.24,-663 447.24,-680 510.24,-680 510.24,-663 447.24,-663\"/>\n<text text-anchor=\"start\" x=\"460.24\" y=\"-669\" font-family=\"monospace\" font-size=\"10.00\">params</text>\n<text text-anchor=\"start\" x=\"333.24\" y=\"-645.2\" font-family=\"monospace\" font-weight=\"bold\" font-size=\"11.00\">pytket::substitute_symbols</text>\n<polygon fill=\"white\" stroke=\"transparent\" points=\"332.24,-614 332.24,-631 510.24,-631 510.24,-614 332.24,-614\"/>\n<polygon fill=\"none\" stroke=\"#1cade4\" points=\"332.24,-614 332.24,-631 510.24,-631 510.24,-614 332.24,-614\"/>\n<text text-anchor=\"start\" x=\"405.74\" y=\"-620\" font-family=\"monospace\" font-size=\"10.00\">value</text>\n<polygon fill=\"none\" stroke=\"white\" points=\"326.24,-608 326.24,-686 516.24,-686 516.24,-608 326.24,-608\"/>\n</g>\n<!-- //3//0&#45;&gt;//3//3 -->\n<g id=\"edge1\" class=\"edge\">\n<title>//3//0:out._c0&#45;&gt;//3//3:in.circ</title>\n<path fill=\"none\" stroke=\"#1cade4\" stroke-width=\"1.5\" d=\"M525.24,-756C517.32,-756 519.36,-748.03 514.24,-742 495.51,-719.94 495.1,-708.8 470.24,-694 449.77,-681.82 418.24,-704.82 418.24,-681\"/>\n<text text-anchor=\"middle\" x=\"525.74\" y=\"-711.8\" font-family=\"monospace\" font-size=\"9.00\">Circuit</text>\n</g>\n<!-- //3//0&#45;&gt;//3//3 -->\n<g id=\"edge2\" class=\"edge\">\n<title>//3//0:out.params&#45;&gt;//3//3:in.params</title>\n<path fill=\"none\" stroke=\"#1cade4\" stroke-width=\"1.5\" d=\"M576.24,-747C576.24,-719.93 567.13,-711.2 546.24,-694 537.56,-686.85 531.43,-692.47 522.24,-686 515.77,-681.45 519.15,-672 511.24,-672\"/>\n<text text-anchor=\"middle\" x=\"608.74\" y=\"-711.8\" font-family=\"monospace\" font-size=\"9.00\">Vector[Float]</text>\n</g>\n<!-- //3//1 -->\n<g id=\"node5\" class=\"node\">\n<title>//3//1</title>\n<polygon fill=\"white\" stroke=\"transparent\" points=\"538.74,-18 538.74,-70 587.74,-70 587.74,-18 538.74,-18\"/>\n<polygon fill=\"white\" stroke=\"transparent\" points=\"545.24,-47 545.24,-64 582.24,-64 582.24,-47 545.24,-47\"/>\n<polygon fill=\"none\" stroke=\"#1cade4\" points=\"545.24,-47 545.24,-64 582.24,-64 582.24,-47 545.24,-47\"/>\n<text text-anchor=\"start\" x=\"548.24\" y=\"-53\" font-family=\"monospace\" font-size=\"10.00\">value</text>\n<text text-anchor=\"start\" x=\"560.24\" y=\"-29.2\" font-family=\"monospace\" font-weight=\"bold\" font-size=\"11.00\"> </text>\n<polygon fill=\"none\" stroke=\"white\" points=\"538.74,-18 538.74,-70 587.74,-70 587.74,-18 538.74,-18\"/>\n</g>\n<!-- //3//2 -->\n<g id=\"node6\" class=\"node\">\n<title>//3//2</title>\n<polygon fill=\"#77ceef\" stroke=\"transparent\" points=\"426.24,-755 426.24,-781 508.24,-781 508.24,-755 426.24,-755\"/>\n<text text-anchor=\"start\" x=\"433.24\" y=\"-766.2\" font-family=\"monospace\" font-weight=\"bold\" font-size=\"11.00\">[&quot;a&quot;, &quot;b&quot;]</text>\n<polygon fill=\"none\" stroke=\"white\" points=\"426.24,-755 426.24,-781 508.24,-781 508.24,-755 426.24,-755\"/>\n</g>\n<!-- //3//2&#45;&gt;//3//3 -->\n<g id=\"edge3\" class=\"edge\">\n<title>//3//2&#45;&gt;//3//3:in.symbs</title>\n<path fill=\"none\" stroke=\"#1cade4\" stroke-width=\"1.5\" d=\"M445.53,-754.85C414.52,-736.75 361.24,-702.51 361.24,-681\"/>\n<text text-anchor=\"middle\" x=\"439.24\" y=\"-711.8\" font-family=\"monospace\" font-size=\"9.00\">Vector[Str]</text>\n</g>\n<!-- //3//6 -->\n<g id=\"node10\" class=\"node\">\n<title>//3//6</title>\n<polygon fill=\"#accbf9\" stroke=\"transparent\" points=\"471.74,-484 471.74,-562 654.74,-562 654.74,-484 471.74,-484\"/>\n<polygon fill=\"white\" stroke=\"transparent\" points=\"478.24,-539 478.24,-556 527.24,-556 527.24,-539 478.24,-539\"/>\n<polygon fill=\"none\" stroke=\"#1cade4\" points=\"478.24,-539 478.24,-556 527.24,-556 527.24,-539 478.24,-539\"/>\n<text text-anchor=\"start\" x=\"481.24\" y=\"-545\" font-family=\"monospace\" font-size=\"10.00\">circuit</text>\n<polygon fill=\"white\" stroke=\"transparent\" points=\"530.24,-539 530.24,-556 567.24,-556 567.24,-539 530.24,-539\"/>\n<polygon fill=\"none\" stroke=\"#1cade4\" points=\"530.24,-539 530.24,-556 567.24,-556 567.24,-539 530.24,-539\"/>\n<text text-anchor=\"start\" x=\"533.24\" y=\"-545\" font-family=\"monospace\" font-size=\"10.00\">shots</text>\n<polygon fill=\"white\" stroke=\"transparent\" points=\"570.24,-539 570.24,-556 649.24,-556 649.24,-539 570.24,-539\"/>\n<polygon fill=\"none\" stroke=\"#1cade4\" points=\"570.24,-539 570.24,-556 649.24,-556 649.24,-539 570.24,-539\"/>\n<text text-anchor=\"start\" x=\"573.24\" y=\"-545\" font-family=\"monospace\" font-size=\"10.00\">backend_name</text>\n<text text-anchor=\"start\" x=\"512.74\" y=\"-521.2\" font-family=\"monospace\" font-weight=\"bold\" font-size=\"11.00\">pytket::execute</text>\n<polygon fill=\"white\" stroke=\"transparent\" points=\"478.24,-490 478.24,-507 649.24,-507 649.24,-490 478.24,-490\"/>\n<polygon fill=\"none\" stroke=\"#1cade4\" points=\"478.24,-490 478.24,-507 649.24,-507 649.24,-490 478.24,-490\"/>\n<text text-anchor=\"start\" x=\"548.24\" y=\"-496\" font-family=\"monospace\" font-size=\"10.00\">value</text>\n<polygon fill=\"none\" stroke=\"white\" points=\"471.74,-484 471.74,-562 654.74,-562 654.74,-484 471.74,-484\"/>\n</g>\n<!-- //3//3&#45;&gt;//3//6 -->\n<g id=\"edge4\" class=\"edge\">\n<title>//3//3:out.value&#45;&gt;//3//6:in.circuit</title>\n<path fill=\"none\" stroke=\"#1cade4\" stroke-width=\"1.5\" d=\"M421.24,-613C421.24,-574.87 439.11,-548 477.24,-548\"/>\n<text text-anchor=\"middle\" x=\"449.74\" y=\"-582.8\" font-family=\"monospace\" font-size=\"9.00\">Circuit</text>\n</g>\n<!-- //3//4 -->\n<g id=\"node8\" class=\"node\">\n<title>//3//4</title>\n<polygon fill=\"#77ceef\" stroke=\"transparent\" points=\"527.24,-634 527.24,-660 569.24,-660 569.24,-634 527.24,-634\"/>\n<text text-anchor=\"start\" x=\"534.24\" y=\"-645.2\" font-family=\"monospace\" font-weight=\"bold\" font-size=\"11.00\">1000</text>\n<polygon fill=\"none\" stroke=\"white\" points=\"527.24,-634 527.24,-660 569.24,-660 569.24,-634 527.24,-634\"/>\n</g>\n<!-- //3//4&#45;&gt;//3//6 -->\n<g id=\"edge5\" class=\"edge\">\n<title>//3//4&#45;&gt;//3//6:in.shots</title>\n<path fill=\"none\" stroke=\"#1cade4\" stroke-width=\"1.5\" d=\"M548.24,-633.91C548.24,-616.79 548.24,-584.5 548.24,-557\"/>\n<text text-anchor=\"middle\" x=\"556.24\" y=\"-582.8\" font-family=\"monospace\" font-size=\"9.00\">Int</text>\n</g>\n<!-- //3//5 -->\n<g id=\"node9\" class=\"node\">\n<title>//3//5</title>\n<polygon fill=\"#77ceef\" stroke=\"transparent\" points=\"580.24,-634 580.24,-660 676.24,-660 676.24,-634 580.24,-634\"/>\n<text text-anchor=\"start\" x=\"587.24\" y=\"-645.2\" font-family=\"monospace\" font-weight=\"bold\" font-size=\"11.00\">&quot;AerBackend&quot;</text>\n<polygon fill=\"none\" stroke=\"white\" points=\"580.24,-634 580.24,-660 676.24,-660 676.24,-634 580.24,-634\"/>\n</g>\n<!-- //3//5&#45;&gt;//3//6 -->\n<g id=\"edge6\" class=\"edge\">\n<title>//3//5&#45;&gt;//3//6:in.backend_name</title>\n<path fill=\"none\" stroke=\"#1cade4\" stroke-width=\"1.5\" d=\"M624.15,-633.78C618.84,-616.77 610.24,-584.9 610.24,-557\"/>\n<text text-anchor=\"middle\" x=\"622.24\" y=\"-582.8\" font-family=\"monospace\" font-size=\"9.00\">Str</text>\n</g>\n<!-- //3//7 -->\n<g id=\"node11\" class=\"node\">\n<title>//3//7</title>\n<polygon fill=\"#accbf9\" stroke=\"transparent\" points=\"486.24,-280 486.24,-358 642.24,-358 642.24,-280 486.24,-280\"/>\n<polygon fill=\"white\" stroke=\"transparent\" points=\"492.24,-335 492.24,-352 636.24,-352 636.24,-335 492.24,-335\"/>\n<polygon fill=\"none\" stroke=\"#1cade4\" points=\"492.24,-335 492.24,-352 636.24,-352 636.24,-335 492.24,-335\"/>\n<text text-anchor=\"start\" x=\"551.74\" y=\"-341\" font-family=\"monospace\" font-size=\"10.00\">dist</text>\n<text text-anchor=\"start\" x=\"493.24\" y=\"-317.2\" font-family=\"monospace\" font-weight=\"bold\" font-size=\"11.00\">pytket::z_expectation</text>\n<polygon fill=\"white\" stroke=\"transparent\" points=\"492.24,-286 492.24,-303 636.24,-303 636.24,-286 492.24,-286\"/>\n<polygon fill=\"none\" stroke=\"#1cade4\" points=\"492.24,-286 492.24,-303 636.24,-303 636.24,-286 492.24,-286\"/>\n<text text-anchor=\"start\" x=\"548.74\" y=\"-292\" font-family=\"monospace\" font-size=\"10.00\">value</text>\n<polygon fill=\"none\" stroke=\"white\" points=\"486.24,-280 486.24,-358 642.24,-358 642.24,-280 486.24,-280\"/>\n</g>\n<!-- //3//6&#45;&gt;//3//7 -->\n<g id=\"edge7\" class=\"edge\">\n<title>//3//6:out.value&#45;&gt;//3//7:in.dist</title>\n<path fill=\"none\" stroke=\"#1cade4\" stroke-width=\"1.5\" d=\"M564.24,-489C564.24,-428.56 564.24,-413.44 564.24,-353\"/>\n<text text-anchor=\"middle\" x=\"614.24\" y=\"-418.8\" font-family=\"monospace\" font-size=\"9.00\">SampledDistribution</text>\n</g>\n<!-- //3//8 -->\n<g id=\"node12\" class=\"node\">\n<title>//3//8</title>\n<polygon fill=\"#accbf9\" stroke=\"transparent\" points=\"491.74,-106 491.74,-184 634.74,-184 634.74,-106 491.74,-106\"/>\n<polygon fill=\"white\" stroke=\"transparent\" points=\"498.24,-161 498.24,-178 629.24,-178 629.24,-161 498.24,-161\"/>\n<polygon fill=\"none\" stroke=\"#1cade4\" points=\"498.24,-161 498.24,-178 629.24,-178 629.24,-161 498.24,-161\"/>\n<text text-anchor=\"start\" x=\"551.24\" y=\"-167\" font-family=\"monospace\" font-size=\"10.00\">zexp</text>\n<text text-anchor=\"start\" x=\"499.24\" y=\"-143.2\" font-family=\"monospace\" font-weight=\"bold\" font-size=\"11.00\">Box: zexp_to_parity</text>\n<polygon fill=\"white\" stroke=\"transparent\" points=\"498.24,-112 498.24,-129 629.24,-129 629.24,-112 498.24,-112\"/>\n<polygon fill=\"none\" stroke=\"#1cade4\" points=\"498.24,-112 498.24,-129 629.24,-129 629.24,-112 498.24,-112\"/>\n<text text-anchor=\"start\" x=\"548.24\" y=\"-118\" font-family=\"monospace\" font-size=\"10.00\">value</text>\n<polygon fill=\"none\" stroke=\"white\" points=\"491.74,-106 491.74,-184 634.74,-184 634.74,-106 491.74,-106\"/>\n</g>\n<!-- //3//7&#45;&gt;//3//8 -->\n<g id=\"edge8\" class=\"edge\">\n<title>//3//7:out.value&#45;&gt;//3//8:in.zexp</title>\n<path fill=\"none\" stroke=\"#1cade4\" stroke-width=\"1.5\" d=\"M564.24,-285C564.24,-237.89 564.24,-226.11 564.24,-179\"/>\n<text text-anchor=\"middle\" x=\"577.74\" y=\"-229.8\" font-family=\"monospace\" font-size=\"9.00\">Float</text>\n</g>\n<!-- //3//8&#45;&gt;//3//1 -->\n<g id=\"edge9\" class=\"edge\">\n<title>//3//8:out.value&#45;&gt;//3//1:in.value</title>\n<path fill=\"none\" stroke=\"#1cade4\" stroke-width=\"1.5\" d=\"M564.24,-111C564.24,-90.56 564.24,-85.44 564.24,-65\"/>\n<text text-anchor=\"middle\" x=\"577.74\" y=\"-85.8\" font-family=\"monospace\" font-size=\"9.00\">Float</text>\n</g>\n<!-- //3thunk -->\n<g id=\"node13\" class=\"node\">\n<title>//3thunk</title>\n<polygon fill=\"#1cade4\" stroke=\"transparent\" points=\"325.74,-750 325.74,-786 414.74,-786 414.74,-750 325.74,-750\"/>\n<text text-anchor=\"start\" x=\"353.74\" y=\"-771.2\" font-family=\"monospace\" font-weight=\"bold\" font-size=\"11.00\">thunk</text>\n<text text-anchor=\"start\" x=\"333.24\" y=\"-760.2\" font-family=\"monospace\" font-weight=\"bold\" font-style=\"italic\" font-size=\"11.00\">run_circuit</text>\n<polygon fill=\"none\" stroke=\"#1cade4\" points=\"325.74,-750 325.74,-786 414.74,-786 414.74,-750 325.74,-750\"/>\n</g>\n<!-- //3thunk&#45;&gt;//4 -->\n<g id=\"edge11\" class=\"edge\">\n<title>//3thunk&#45;&gt;//4:in.thunk</title>\n<path fill=\"none\" stroke=\"#1cade4\" stroke-width=\"1.5\" d=\"M325.55,-752.38C309.3,-746.86 290.85,-740.38 274.24,-734 231.85,-717.72 223.77,-706.9 180.24,-694 164.23,-689.26 106.24,-697.7 106.24,-681\"/>\n<text text-anchor=\"middle\" x=\"319.24\" y=\"-726.8\" font-family=\"monospace\" font-size=\"9.00\">(_c0: Circuit,</text>\n<text text-anchor=\"middle\" x=\"319.24\" y=\"-716.8\" font-family=\"monospace\" font-size=\"9.00\">params:</text>\n<text text-anchor=\"middle\" x=\"319.24\" y=\"-706.8\" font-family=\"monospace\" font-size=\"9.00\">Vector[Float]) &#45;&gt;</text>\n<text text-anchor=\"middle\" x=\"319.24\" y=\"-696.8\" font-family=\"monospace\" font-size=\"9.00\">(value: Float)</text>\n</g>\n<!-- //8 -->\n<g id=\"node18\" class=\"node\">\n<title>//8</title>\n<ellipse fill=\"#1cade4\" stroke=\"#1cade4\" cx=\"100.24\" cy=\"-523\" rx=\"3.6\" ry=\"3.6\"/>\n</g>\n<!-- //4&#45;&gt;//8 -->\n<g id=\"edge12\" class=\"edge\">\n<title>//4:out.value&#45;&gt;//8</title>\n<path fill=\"none\" stroke=\"#1cade4\" stroke-width=\"1.5\" d=\"M121.24,-613C121.24,-612.71 104.29,-541.1 100.84,-526.56\"/>\n<text text-anchor=\"middle\" x=\"163.24\" y=\"-592.8\" font-family=\"monospace\" font-size=\"9.00\">(params:</text>\n<text text-anchor=\"middle\" x=\"163.24\" y=\"-582.8\" font-family=\"monospace\" font-size=\"9.00\">Vector[Float]) &#45;&gt;</text>\n<text text-anchor=\"middle\" x=\"163.24\" y=\"-572.8\" font-family=\"monospace\" font-size=\"9.00\">(value: Float)</text>\n</g>\n<!-- //5 -->\n<g id=\"node15\" class=\"node\">\n<title>//5</title>\n<polygon fill=\"#accbf9\" stroke=\"transparent\" points=\"121.24,-280 121.24,-358 217.24,-358 217.24,-280 121.24,-280\"/>\n<polygon fill=\"white\" stroke=\"transparent\" points=\"127.24,-335 127.24,-352 211.24,-352 211.24,-335 127.24,-335\"/>\n<polygon fill=\"none\" stroke=\"#1cade4\" points=\"127.24,-335 127.24,-352 211.24,-352 211.24,-335 127.24,-335\"/>\n<text text-anchor=\"start\" x=\"159.74\" y=\"-341\" font-family=\"monospace\" font-size=\"10.00\">run</text>\n<text text-anchor=\"start\" x=\"128.24\" y=\"-317.2\" font-family=\"monospace\" font-weight=\"bold\" font-size=\"11.00\">Box: initial</text>\n<polygon fill=\"white\" stroke=\"transparent\" points=\"127.24,-286 127.24,-303 211.24,-303 211.24,-286 127.24,-286\"/>\n<polygon fill=\"none\" stroke=\"#1cade4\" points=\"127.24,-286 127.24,-303 211.24,-303 211.24,-286 127.24,-286\"/>\n<text text-anchor=\"start\" x=\"153.74\" y=\"-292\" font-family=\"monospace\" font-size=\"10.00\">value</text>\n<polygon fill=\"none\" stroke=\"white\" points=\"121.24,-280 121.24,-358 217.24,-358 217.24,-280 121.24,-280\"/>\n</g>\n<!-- //9 -->\n<g id=\"node19\" class=\"node\">\n<title>//9</title>\n<polygon fill=\"#accbf9\" stroke=\"transparent\" points=\"51.74,-106 51.74,-184 134.74,-184 134.74,-106 51.74,-106\"/>\n<polygon fill=\"white\" stroke=\"transparent\" points=\"58.24,-161 58.24,-178 89.24,-178 89.24,-161 58.24,-161\"/>\n<polygon fill=\"none\" stroke=\"#1cade4\" points=\"58.24,-161 58.24,-178 89.24,-178 89.24,-161 58.24,-161\"/>\n<text text-anchor=\"start\" x=\"61.24\" y=\"-167\" font-family=\"monospace\" font-size=\"10.00\">body</text>\n<polygon fill=\"white\" stroke=\"transparent\" points=\"92.24,-161 92.24,-178 129.24,-178 129.24,-161 92.24,-161\"/>\n<polygon fill=\"none\" stroke=\"#1cade4\" points=\"92.24,-161 92.24,-178 129.24,-178 129.24,-161 92.24,-161\"/>\n<text text-anchor=\"start\" x=\"95.24\" y=\"-167\" font-family=\"monospace\" font-size=\"10.00\">value</text>\n<text text-anchor=\"start\" x=\"79.74\" y=\"-143.2\" font-family=\"monospace\" font-weight=\"bold\" font-size=\"11.00\">loop</text>\n<polygon fill=\"white\" stroke=\"transparent\" points=\"58.24,-112 58.24,-129 129.24,-129 129.24,-112 58.24,-112\"/>\n<polygon fill=\"none\" stroke=\"#1cade4\" points=\"58.24,-112 58.24,-129 129.24,-129 129.24,-112 58.24,-112\"/>\n<text text-anchor=\"start\" x=\"78.24\" y=\"-118\" font-family=\"monospace\" font-size=\"10.00\">value</text>\n<polygon fill=\"none\" stroke=\"white\" points=\"51.74,-106 51.74,-184 134.74,-184 134.74,-106 51.74,-106\"/>\n</g>\n<!-- //5&#45;&gt;//9 -->\n<g id=\"edge13\" class=\"edge\">\n<title>//5:out.value&#45;&gt;//9:in.value</title>\n<path fill=\"none\" stroke=\"#1cade4\" stroke-width=\"1.5\" d=\"M169.24,-285C169.24,-231.03 184.21,-170 130.24,-170\"/>\n<text text-anchor=\"middle\" x=\"239.74\" y=\"-234.8\" font-family=\"monospace\" font-size=\"9.00\">Vector[Pair[Vector[Float],</text>\n<text text-anchor=\"middle\" x=\"239.74\" y=\"-224.8\" font-family=\"monospace\" font-size=\"9.00\">Float]]</text>\n</g>\n<!-- //6 -->\n<g id=\"node16\" class=\"node\">\n<title>//6</title>\n<polygon fill=\"#1cade4\" stroke=\"transparent\" points=\"114.74,-505 114.74,-541 183.74,-541 183.74,-505 114.74,-505\"/>\n<text text-anchor=\"start\" x=\"132.74\" y=\"-526.2\" font-family=\"monospace\" font-weight=\"bold\" font-size=\"11.00\">thunk</text>\n<text text-anchor=\"start\" x=\"122.24\" y=\"-515.2\" font-family=\"monospace\" font-weight=\"bold\" font-style=\"italic\" font-size=\"11.00\">loop_def</text>\n<polygon fill=\"none\" stroke=\"white\" points=\"114.74,-505 114.74,-541 183.74,-541 183.74,-505 114.74,-505\"/>\n</g>\n<!-- //7 -->\n<g id=\"node17\" class=\"node\">\n<title>//7</title>\n<polygon fill=\"#accbf9\" stroke=\"transparent\" points=\"32.74,-280 32.74,-358 109.74,-358 109.74,-280 32.74,-280\"/>\n<polygon fill=\"white\" stroke=\"transparent\" points=\"39.24,-335 39.24,-352 64.24,-352 64.24,-335 39.24,-335\"/>\n<polygon fill=\"none\" stroke=\"#1cade4\" points=\"39.24,-335 39.24,-352 64.24,-352 64.24,-335 39.24,-335\"/>\n<text text-anchor=\"start\" x=\"42.24\" y=\"-341\" font-family=\"monospace\" font-size=\"10.00\">_c0</text>\n<polygon fill=\"white\" stroke=\"transparent\" points=\"67.24,-335 67.24,-352 104.24,-352 104.24,-335 67.24,-335\"/>\n<polygon fill=\"none\" stroke=\"#1cade4\" points=\"67.24,-335 67.24,-352 104.24,-352 104.24,-335 67.24,-335\"/>\n<text text-anchor=\"start\" x=\"70.24\" y=\"-341\" font-family=\"monospace\" font-size=\"10.00\">thunk</text>\n<text text-anchor=\"start\" x=\"47.74\" y=\"-317.2\" font-family=\"monospace\" font-weight=\"bold\" font-size=\"11.00\">partial</text>\n<polygon fill=\"white\" stroke=\"transparent\" points=\"39.24,-286 39.24,-303 104.24,-303 104.24,-286 39.24,-286\"/>\n<polygon fill=\"none\" stroke=\"#1cade4\" points=\"39.24,-286 39.24,-303 104.24,-303 104.24,-286 39.24,-286\"/>\n<text text-anchor=\"start\" x=\"56.24\" y=\"-292\" font-family=\"monospace\" font-size=\"10.00\">value</text>\n<polygon fill=\"none\" stroke=\"white\" points=\"32.74,-280 32.74,-358 109.74,-358 109.74,-280 32.74,-280\"/>\n</g>\n<!-- //6&#45;&gt;//7 -->\n<g id=\"edge14\" class=\"edge\">\n<title>//6&#45;&gt;//7:in.thunk</title>\n<path fill=\"none\" stroke=\"#1cade4\" stroke-width=\"1.5\" d=\"M145.92,-504.93C137.16,-460.38 113.47,-344 105.24,-344\"/>\n<text text-anchor=\"middle\" x=\"208.74\" y=\"-468.8\" font-family=\"monospace\" font-size=\"9.00\">(_c0: (params:</text>\n<text text-anchor=\"middle\" x=\"208.74\" y=\"-458.8\" font-family=\"monospace\" font-size=\"9.00\">Vector[Float]) &#45;&gt;</text>\n<text text-anchor=\"middle\" x=\"208.74\" y=\"-448.8\" font-family=\"monospace\" font-size=\"9.00\">(value: Float),</text>\n<text text-anchor=\"middle\" x=\"208.74\" y=\"-438.8\" font-family=\"monospace\" font-size=\"9.00\">value:</text>\n<text text-anchor=\"middle\" x=\"208.74\" y=\"-428.8\" font-family=\"monospace\" font-size=\"9.00\">Vector[Pair[Vector[Float],</text>\n<text text-anchor=\"middle\" x=\"208.74\" y=\"-418.8\" font-family=\"monospace\" font-size=\"9.00\">Float]]) &#45;&gt; (value:</text>\n<text text-anchor=\"middle\" x=\"208.74\" y=\"-408.8\" font-family=\"monospace\" font-size=\"9.00\">Variant[break:</text>\n<text text-anchor=\"middle\" x=\"208.74\" y=\"-398.8\" font-family=\"monospace\" font-size=\"9.00\">Vector[Pair[Vector[Float],</text>\n<text text-anchor=\"middle\" x=\"208.74\" y=\"-388.8\" font-family=\"monospace\" font-size=\"9.00\">Float]], continue:</text>\n<text text-anchor=\"middle\" x=\"208.74\" y=\"-378.8\" font-family=\"monospace\" font-size=\"9.00\">Vector[Pair[Vector[Float],</text>\n<text text-anchor=\"middle\" x=\"208.74\" y=\"-368.8\" font-family=\"monospace\" font-size=\"9.00\">Float]]])</text>\n</g>\n<!-- //7&#45;&gt;//9 -->\n<g id=\"edge15\" class=\"edge\">\n<title>//7:out.value&#45;&gt;//9:in.body</title>\n<path fill=\"none\" stroke=\"#1cade4\" stroke-width=\"1.5\" d=\"M38.24,-294C-17.71,-294 -1.06,-227.2 19.24,-192 28.98,-175.09 37.72,-170 57.24,-170\"/>\n<text text-anchor=\"middle\" x=\"87.74\" y=\"-264.8\" font-family=\"monospace\" font-size=\"9.00\">(value:</text>\n<text text-anchor=\"middle\" x=\"87.74\" y=\"-254.8\" font-family=\"monospace\" font-size=\"9.00\">Vector[Pair[Vector[Float],</text>\n<text text-anchor=\"middle\" x=\"87.74\" y=\"-244.8\" font-family=\"monospace\" font-size=\"9.00\">Float]]) &#45;&gt; (value:</text>\n<text text-anchor=\"middle\" x=\"87.74\" y=\"-234.8\" font-family=\"monospace\" font-size=\"9.00\">Variant[break:</text>\n<text text-anchor=\"middle\" x=\"87.74\" y=\"-224.8\" font-family=\"monospace\" font-size=\"9.00\">Vector[Pair[Vector[Float],</text>\n<text text-anchor=\"middle\" x=\"87.74\" y=\"-214.8\" font-family=\"monospace\" font-size=\"9.00\">Float]], continue:</text>\n<text text-anchor=\"middle\" x=\"87.74\" y=\"-204.8\" font-family=\"monospace\" font-size=\"9.00\">Vector[Pair[Vector[Float],</text>\n<text text-anchor=\"middle\" x=\"87.74\" y=\"-194.8\" font-family=\"monospace\" font-size=\"9.00\">Float]]])</text>\n</g>\n<!-- //8&#45;&gt;//5 -->\n<g id=\"edge17\" class=\"edge\">\n<title>//8&#45;&gt;//5:in.run</title>\n<path fill=\"none\" stroke=\"#1cade4\" stroke-width=\"1.5\" d=\"M100.34,-519.2C101.21,-496.56 107.73,-344 126.24,-344\"/>\n</g>\n<!-- //8&#45;&gt;//7 -->\n<g id=\"edge16\" class=\"edge\">\n<title>//8&#45;&gt;//7:in._c0</title>\n<path fill=\"none\" stroke=\"#1cade4\" stroke-width=\"1.5\" d=\"M98.82,-519.3C90.79,-503.69 51.24,-423.26 51.24,-353\"/>\n</g>\n<!-- //9&#45;&gt;//1 -->\n<g id=\"edge18\" class=\"edge\">\n<title>//9:out.value&#45;&gt;//1:in.value</title>\n<path fill=\"none\" stroke=\"#1cade4\" stroke-width=\"1.5\" d=\"M94.24,-111C94.24,-90.56 94.24,-85.44 94.24,-65\"/>\n<text text-anchor=\"middle\" x=\"162.74\" y=\"-90.8\" font-family=\"monospace\" font-size=\"9.00\">Vector[Pair[Vector[Float],</text>\n<text text-anchor=\"middle\" x=\"162.74\" y=\"-80.8\" font-family=\"monospace\" font-size=\"9.00\">Float]]</text>\n</g>\n</g>\n</svg>\n",
      "text/plain": [
       "<graphviz.graphs.Digraph at 0x7ff653a7ca00>"
      ]
     },
     "execution_count": 9,
     "metadata": {},
     "output_type": "execute_result"
    }
   ],
   "source": [
    "from tierkreis import tierkreis_to_graphviz\n",
    "\n",
    "tierkreis_to_graphviz(tg, unbox_graph_names={\"run_circuit\"}, unbox_level=1)"
   ]
  }
 ],
 "metadata": {
  "kernelspec": {
   "display_name": "Python 3.10.0 ('python-3.10.0': venv)",
   "language": "python",
   "name": "python3"
  },
  "language_info": {
   "codemirror_mode": {
    "name": "ipython",
    "version": 3
   },
   "file_extension": ".py",
   "mimetype": "text/x-python",
   "name": "python",
   "nbconvert_exporter": "python",
   "pygments_lexer": "ipython3",
   "version": "3.10.0"
  },
  "orig_nbformat": 4,
  "vscode": {
   "interpreter": {
    "hash": "bab04553203f566fbaad43a8a237dcab3fe645726c1f3e19ee8d4e5b24453672"
   }
  }
 },
 "nbformat": 4,
 "nbformat_minor": 2
}
