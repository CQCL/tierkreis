{
 "cells": [
  {
   "cell_type": "code",
   "execution_count": null,
   "metadata": {},
   "outputs": [],
   "source": [
    "from tierkreis.builder import graph, Namespace, Output, Const, Scope, Copyable\n",
    "from tierkreis.pyruntime.python_runtime import VizRuntime, PyRuntime\n",
    "import sys\n",
    "from pathlib import Path\n",
    "\n",
    "_TK_ROOT_DIR = Path(\"..\")\n",
    "sys.path.append(str(_TK_ROOT_DIR / \"tests/\"))\n",
    "import test_worker.main\n",
    "\n",
    "# Start a local tierkreis-viz instance and provide the port number\n",
    "# in the url as \"http://localhost:<port>\"\n",
    "cl = VizRuntime(\"http://localhost:3000\", [test_worker.main.root])\n",
    "# cl = PyRuntime([test_worker.main.root])\n",
    "\n",
    "sig = await cl.get_signature()\n",
    "bi = Namespace(sig)\n",
    "pn = bi[\"python_nodes\"]\n",
    "\n",
    "\n",
    "delay = lambda: Const(5)"
   ]
  },
  {
   "cell_type": "code",
   "execution_count": null,
   "metadata": {},
   "outputs": [],
   "source": [
    "@graph()\n",
    "def arithmetic_graph(xvec) -> Output:\n",
    "    xvec, x = bi.pop(pn.id_delay(delay(), xvec))\n",
    "    _, y = bi.pop(pn.id_delay(delay(), xvec))\n",
    "    return Output(\n",
    "        bi.iadd(bi.fmul(pn.id_delay(delay(), x), Const(3)), pn.id_delay(delay(), y))\n",
    "    )\n",
    "\n",
    "\n",
    "cl.viz_graph(arithmetic_graph)"
   ]
  },
  {
   "cell_type": "code",
   "execution_count": null,
   "metadata": {},
   "outputs": [],
   "source": [
    "arithmetic_graph = await cl.type_check_graph(arithmetic_graph)"
   ]
  },
  {
   "cell_type": "code",
   "execution_count": null,
   "metadata": {},
   "outputs": [],
   "source": [
    "await cl.run_graph(arithmetic_graph, xvec=[7, 5])"
   ]
  },
  {
   "cell_type": "code",
   "execution_count": null,
   "metadata": {},
   "outputs": [],
   "source": [
    "@graph()\n",
    "def boxed_g() -> Output:\n",
    "    a = Const(3)\n",
    "    with Scope():\n",
    "        d = bi.iadd(a, Const(2))\n",
    "    e = bi.iadd(d, Const(1))\n",
    "    return Output(value=e)\n",
    "\n",
    "\n",
    "_ = await cl.type_check_graph(boxed_g)"
   ]
  }
 ],
 "metadata": {
  "kernelspec": {
   "display_name": "python-3.10.0",
   "language": "python",
   "name": "python3"
  },
  "language_info": {
   "codemirror_mode": {
    "name": "ipython",
    "version": 3
   },
   "file_extension": ".py",
   "mimetype": "text/x-python",
   "name": "python",
   "nbconvert_exporter": "python",
   "pygments_lexer": "ipython3",
   "version": "3.10.0"
  },
  "orig_nbformat": 4,
  "vscode": {
   "interpreter": {
    "hash": "bab04553203f566fbaad43a8a237dcab3fe645726c1f3e19ee8d4e5b24453672"
   }
  }
 },
 "nbformat": 4,
 "nbformat_minor": 2
}
